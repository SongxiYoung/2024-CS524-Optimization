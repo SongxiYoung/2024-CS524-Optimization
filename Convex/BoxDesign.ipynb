{
 "cells": [
  {
   "cell_type": "markdown",
   "metadata": {},
   "source": [
    "We want to design a box of height $h$, width $w$, and depth $d$ with maximum volume $(hwd)$ subject to the limits:\n",
    "\n",
    "* total wall area: $2(hw + hd) \\le A_{wall}$\n",
    "* total floor area: $wd \\le A_{flr}$\n",
    "* height-width aspect ratio: $\\alpha \\le \\frac{h}{w} \\le \\beta$\n",
    "* width-depth aspect ratio: $\\gamma \\le \\frac{d}{w} \\le \\delta$"
   ]
  },
  {
   "cell_type": "code",
   "execution_count": 1,
   "metadata": {},
   "outputs": [
    {
     "data": {
      "text/plain": [
       "2"
      ]
     },
     "metadata": {},
     "output_type": "display_data"
    }
   ],
   "source": [
    "Aw = 8\n",
    "Af = 2\n",
    "α = 0.25\n",
    "β = 4\n",
    "γ = 0.5\n",
    "δ = 2\n"
   ]
  },
  {
   "cell_type": "markdown",
   "metadata": {},
   "source": [
    "Here is an optimization model \n",
    "\n",
    "\\begin{aligned}\n",
    "\\min_{h,w,d\\,>\\,0}\\quad& h^{-1}w^{-1}d^{-1} \\\\\n",
    "\\text{subject to:}\\quad& \\tfrac{2}{A_{wall}} hw + \\tfrac{2}{A_{wall}} hd \\le 1,&&\\tfrac{1}{A_{flr}} wd \\le 1 \\\\\n",
    "&\\alpha h^{-1} w \\le 1,&& \\tfrac{1}{\\beta}h w^{-1} \\le 1 \\\\\n",
    "&\\gamma w d^{-1} \\le 1,&& \\tfrac{1}{\\delta}w^{-1} d \\le 1\n",
    "\\end{aligned}\n",
    "\n",
    "This looks like it has nonconvex functions in it, but if we define \n",
    "$x := \\log h$, $y := \\log w$, and $z := \\log d$, it gets transformed into the following: \n",
    "\n",
    "\\begin{aligned}\n",
    "\\min_{x,y,z}\\quad& -x-y-z \\\\\n",
    "\\text{subject to:}\\quad& \\log( e^{\\log(2/A_{wall}) + x + y} + e^{\\log(2/A_{wall}) + x+z}) \\le 0 \\\\\n",
    "&  y + z \\le \\log A_{flr} \\\\\n",
    "& \\log\\alpha \\le x - y \\le \\log\\beta \\\\\n",
    "& \\log\\gamma \\le z- y  \\le \\log\\delta \n",
    "\\end{aligned}"
   ]
  },
  {
   "cell_type": "code",
   "execution_count": 2,
   "metadata": {},
   "outputs": [
    {
     "name": "stdout",
     "output_type": "stream",
     "text": [
      "The model is solved and feasible.\n",
      "Box has dimensions (h,w,d) = (0.35,1.41,1.41)"
     ]
    }
   ],
   "source": [
    "using JuMP, SCS \n",
    "\n",
    "model = Model(SCS.Optimizer)\n",
    "set_silent(model)\n",
    "@variable(model, x)\n",
    "@variable(model, y)\n",
    "@variable(model, z)\n",
    "@variable(model, u1)\n",
    "@variable(model, u2)\n",
    "\n",
    "@objective(model, Max, x + y + z)\n",
    "@constraint(model, [log(2/Af) + x + y, 1, u1] in MOI.ExponentialCone())\n",
    "@constraint(model, [log(2/Af) + x + z, 1, u2] in MOI.ExponentialCone())\n",
    "@constraint(model, u1 + u2 <= 1)\n",
    "\n",
    "@constraint(model, y+z <= log(Af))\n",
    "@constraint(model, log(α) <= x - y <= log(β))\n",
    "@constraint(model, log(γ) <= z - y <= log(δ))\n",
    "\n",
    "optimize!(model)\n",
    "if termination_status(model) == MOI.OPTIMAL && primal_status(model) == MOI.FEASIBLE_POINT\n",
    "    println(\"The model is solved and feasible.\")\n",
    "else\n",
    "    println(\"The model is not solved or not feasible.\")\n",
    "end\n",
    "\n",
    "#print(objective_value(model))\n",
    "\n",
    "# Transform it back and see shape\n",
    "h = exp(value(x))\n",
    "w = exp(value(y))\n",
    "d = exp(value(z))\n",
    "\n",
    "print(\"Box has dimensions (h,w,d) = (\", round(h,digits=2), \",\", \n",
    "round(w,digits=2), \",\",  round(d,digits=2), \")\")\n",
    "\n",
    "\n",
    "#print(model)\n",
    "\n",
    "\n"
   ]
  }
 ],
 "metadata": {
  "kernelspec": {
   "display_name": "Julia 1.10.0",
   "language": "julia",
   "name": "julia-1.10"
  },
  "language_info": {
   "file_extension": ".jl",
   "mimetype": "application/julia",
   "name": "julia",
   "version": "1.10.0"
  }
 },
 "nbformat": 4,
 "nbformat_minor": 2
}
