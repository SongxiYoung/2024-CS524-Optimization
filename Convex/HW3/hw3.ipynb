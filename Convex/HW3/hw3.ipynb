{
 "cells": [
  {
   "cell_type": "markdown",
   "metadata": {},
   "source": [
    "### ISyE524: Intro to Optimization\n",
    "#### Problem Set #3\n",
    "##### 1. MaxFlow\n",
    "###### 1-1\n",
    "\n",
    "\n",
    "\\begin{align*}\n",
    "\\text{Max} \\quad & x_{ts} \\\\\n",
    "\\text{Subject to:} \\quad & \\sum_{j \\in N} x_{ij} - \\sum_{j \\in N} x_{ji} = 0 \\quad \\forall i \\in N \\\\\n",
    "& 0 \\leq x_{ij} \\leq u_{ij} \\quad \\forall (i, j) \\in A \n",
    "\\end{align*}"
   ]
  },
  {
   "cell_type": "markdown",
   "metadata": {},
   "source": [
    "###### 1-2\n",
    "\n",
    "\\begin{align*}\n",
    "\\text{Min} \\quad & \\sum_{(i,j) \\in A} \\mu_{ij} \\lambda_{ij} \\\\\n",
    "\\text{Subject to:} \\quad & \\mu_{i} - \\mu_{j} + \\lambda_{ij} \\geq 0 \\quad \\forall (i,j) \\in A \\\\\n",
    "& -\\mu_{s} + \\mu_{t} \\geq 1\\\\\n",
    "& \\mu_{i}   free \\quad \\forall i \\in N \\\\\n",
    "& 0 \\leq \\lambda_{ij} \\quad \\forall (i, j) \\in A \n",
    "\\end{align*}"
   ]
  },
  {
   "cell_type": "markdown",
   "metadata": {},
   "source": [
    "###### 1-3"
   ]
  },
  {
   "cell_type": "code",
   "execution_count": 3,
   "metadata": {},
   "outputs": [
    {
     "ename": "MethodError",
     "evalue": "MethodError: objects of type Vector{Tuple{Char, Char}} are not callable\nUse square brackets [] for indexing an Array.",
     "output_type": "error",
     "traceback": [
      "MethodError: objects of type Vector{Tuple{Char, Char}} are not callable\n",
      "Use square brackets [] for indexing an Array.\n",
      "\n",
      "Stacktrace:\n",
      " [1] macro expansion\n",
      "   @ ~/.julia/packages/JuMP/027Gt/src/macros.jl:375 [inlined]\n",
      " [2] top-level scope\n",
      "   @ ~/Documents/GitHub/2024-CS524-Optimization/Convex/HW3/hw3.ipynb:12"
     ]
    }
   ],
   "source": [
    "using JuMP, GLPK\n",
    "\n",
    "# Define the model using the GLPK solver\n",
    "model = Model(GLPK.Optimizer)\n",
    "\n",
    "# Define the edges of the network and their capacities\n",
    "edges = Dict(('s', '1') => 6, ('s', '2') => 2, ('1', '3') => 3, \n",
    "             ('2', '1') => 1, ('2', '4') => 7, ('3', 't') => 2,\n",
    "             ('4', '3') => 3, ('4', 't') => 7, ('t', 's') => Inf)\n",
    "\n",
    "# Define the flow variables for each edge\n",
    "@variable(model, f[edges.keys()] >= 0)\n",
    "\n",
    "# Capacity constraints\n",
    "for edge in keys(edges)\n",
    "    @constraint(model, f[edge] <= edges[edge])\n",
    "end\n",
    "\n",
    "# Flow conservation constraints, except for s and t\n",
    "nodes = ['1', '2', '3', '4']\n",
    "for node in nodes\n",
    "    inflow = sum(f[i, node] for i in nodes if (i, node) in keys(f))\n",
    "    outflow = sum(f[node, j] for j in nodes if (node, j) in keys(f))\n",
    "    @constraint(model, inflow == outflow)\n",
    "end\n",
    "\n",
    "# Add the circulation arc constraint\n",
    "@constraint(model, f['t', 's'] - f['s', 't'] == 0)\n",
    "\n",
    "# Objective: maximize flow out of s minus flow into s (which should be zero)\n",
    "out_of_s = sum(f['s', j] for j in nodes if ('s', j) in keys(f))\n",
    "@objective(model, Max, out_of_s)\n",
    "\n",
    "# Solve the optimization problem\n",
    "optimize!(model)\n",
    "\n",
    "# Output the optimal flow value and the flows on each edge\n",
    "println(\"Maximum flow from s to t: \", objective_value(model))\n",
    "for edge in keys(edges)\n",
    "    println(\"Flow on edge \", edge, \": \", value(f[edge]))\n",
    "end\n"
   ]
  },
  {
   "cell_type": "markdown",
   "metadata": {},
   "source": [
    "###### 1-4"
   ]
  },
  {
   "cell_type": "code",
   "execution_count": null,
   "metadata": {},
   "outputs": [],
   "source": []
  },
  {
   "cell_type": "markdown",
   "metadata": {},
   "source": [
    "###### 1-5"
   ]
  },
  {
   "cell_type": "code",
   "execution_count": null,
   "metadata": {},
   "outputs": [],
   "source": []
  },
  {
   "cell_type": "markdown",
   "metadata": {},
   "source": [
    "##### 2. Lasso\n",
    "###### 2-1"
   ]
  },
  {
   "cell_type": "code",
   "execution_count": 4,
   "metadata": {},
   "outputs": [
    {
     "data": {
      "image/png": "[encoded data removed]",
      "text/plain": [
       "Figure(PyObject <Figure size 800x400 with 1 Axes>)"
      ]
     },
     "metadata": {},
     "output_type": "display_data"
    }
   ],
   "source": [
    "using PyPlot, CSV, DataFrames\n",
    "\n",
    "data = CSV.read(\"lasso-data.csv\", DataFrame)\n",
    "x = data[:,1]\n",
    "y = data[:,2]\n",
    "\n",
    "cla()\n",
    "figure(figsize=(8,4))\n",
    "plot(x,y,\"r.\", markersize=10)\n",
    "grid(\"True\")\n",
    "# Only need this in vscode?\n",
    "display(gcf())"
   ]
  },
  {
   "cell_type": "code",
   "execution_count": 12,
   "metadata": {},
   "outputs": [
    {
     "data": {
      "text/plain": [
       "94×7 Matrix{Float64}:\n",
       " 0.91686   -0.93022   0.943775  -0.957528  0.971481  -0.985637  1.0\n",
       " 0.991306  -0.99275   0.994196  -0.995644  0.997094  -0.998546  1.0\n",
       " 0.578547  -0.633795  0.694319  -0.760623  0.833258  -0.91283   1.0\n",
       " 0.415913  -0.481396  0.557188  -0.644914  0.74645   -0.863974  1.0\n",
       " 0.368498  -0.435207  0.513993  -0.607041  0.716933  -0.846719  1.0\n",
       " 0.351794  -0.418704  0.49834   -0.593123  0.705932  -0.840198  1.0\n",
       " 0.312462  -0.379313  0.460466  -0.558983  0.678577  -0.823758  1.0\n",
       " 0.524983  -0.584504  0.650774  -0.724557  0.806706  -0.898168  1.0\n",
       " 0.397282  -0.463357  0.540422  -0.630303  0.735134  -0.857399  1.0\n",
       " 0.351542  -0.418454  0.498102  -0.59291   0.705763  -0.840097  1.0\n",
       " ⋮                                                    ⋮         \n",
       " 0.42255    0.487788  0.5631     0.650038  0.7504     0.866256  1.0\n",
       " 0.359675   0.426506  0.505755   0.599729  0.711165   0.843306  1.0\n",
       " 0.515851   0.576019  0.643205   0.718227  0.802001   0.895545  1.0\n",
       " 0.436541   0.501211  0.575462   0.660712  0.758592   0.870972  1.0\n",
       " 0.361791   0.428596  0.507736   0.60149   0.712556   0.84413   1.0\n",
       " 0.55822    0.615183  0.677959   0.747141  0.823383   0.907404  1.0\n",
       " 0.917803   0.931017  0.944422   0.95802   0.971814   0.985806  1.0\n",
       " 0.854156   0.876895  0.900239   0.924205  0.948809   0.974069  1.0\n",
       " 1.02461    1.02047   1.01634    1.01223   1.00814    1.00406   1.0"
      ]
     },
     "metadata": {},
     "output_type": "display_data"
    }
   ],
   "source": [
    "# Fit the data using a function of the form y = f(x) = u1 x^k + u2 x^(k-1) + ... + uk x + u{k+1}\n",
    "\n",
    "# Order of polynomial used for fitting\n",
    "k = 6\n",
    "\n",
    "# Create the A matrix (where each row corresponds to one observation x_i and each column is an x^k term)\n",
    "n = length(x)\n",
    "A = zeros(n,k+1)\n",
    "for i = 1:n\n",
    "    for j = 1:k+1\n",
    "        A[i,j] = x[i]^(k+1-j)\n",
    "    end\n",
    "end\n",
    "A"
   ]
  },
  {
   "cell_type": "code",
   "execution_count": 13,
   "metadata": {},
   "outputs": [
    {
     "name": "stdout",
     "output_type": "stream",
     "text": [
      "Running HiGHS 1.6.0: Copyright (c) 2023 HiGHS under MIT licence terms\n",
      "Iteration, Runtime, ObjVal, NullspaceDim\n",
      "0, 0.000400, 3073.967606, 7\n",
      "3, 0.000505, 1607.360992, 7\n",
      "Model   status      : Optimal\n",
      "Objective value     :  1.6073609922e+03\n",
      "HiGHS run time      :          0.00\n",
      "OPTIMAL\n",
      "The error is 1607.3609921595705\n",
      "The coefficients are [-2.249371900396229, -41.30577606533521, -8.493550837855988, 43.82460620435696, -1.8469776466959757, -8.539113160802808, 3.375813786151018]\n"
     ]
    }
   ],
   "source": [
    "# Solve the LEAST SQUARES polynomial fit\n",
    "\n",
    "using JuMP, HiGHS\n",
    "m6 = Model(HiGHS.Optimizer)\n",
    "\n",
    "@variable(m6, u[1:k+1])\n",
    "@objective(m6, Min, sum( (y - A*u).^2 ) )\n",
    "\n",
    "optimize!(m6)\n",
    "uopt6 = value.(u)\n",
    "println(termination_status(m6))\n",
    "println(\"The error is \", objective_value(m6))\n",
    "println(\"The coefficients are \", uopt6)"
   ]
  },
  {
   "cell_type": "markdown",
   "metadata": {},
   "source": [
    "###### 2-2"
   ]
  },
  {
   "cell_type": "code",
   "execution_count": 14,
   "metadata": {},
   "outputs": [
    {
     "data": {
      "text/plain": [
       "94×19 Matrix{Float64}:\n",
       " 0.770742   -0.781973   0.793368   …  -0.957528  0.971481  -0.985637  1.0\n",
       " 0.974145   -0.975563   0.976984      -0.995644  0.997094  -0.998546  1.0\n",
       " 0.193649   -0.212142   0.2324        -0.760623  0.833258  -0.91283   1.0\n",
       " 0.0719464  -0.0832738  0.0963847     -0.644914  0.74645   -0.863974  1.0\n",
       " 0.0500388  -0.0590972  0.0697956     -0.607041  0.716933  -0.846719  1.0\n",
       " 0.0435379  -0.0518186  0.0616743  …  -0.593123  0.705932  -0.840198  1.0\n",
       " 0.0305064  -0.0370332  0.0449565     -0.558983  0.678577  -0.823758  1.0\n",
       " 0.144689   -0.161093   0.179358      -0.724557  0.806706  -0.898168  1.0\n",
       " 0.0627044  -0.0731332  0.0852965     -0.630303  0.735134  -0.857399  1.0\n",
       " 0.0434442  -0.0517133  0.0615564     -0.59291   0.705763  -0.840097  1.0\n",
       " ⋮                                 ⋱   ⋮                              \n",
       " 0.0754455   0.0870938  0.10054    …   0.650038  0.7504     0.866256  1.0\n",
       " 0.0465298   0.0551755  0.0654276      0.599729  0.711165   0.843306  1.0\n",
       " 0.137269    0.15328    0.171158       0.718227  0.802001   0.895545  1.0\n",
       " 0.0831907   0.0955148  0.109665       0.660712  0.758592   0.870972  1.0\n",
       " 0.0473557   0.0560999  0.0664588      0.60149   0.712556   0.84413   1.0\n",
       " 0.173946    0.191697   0.211258   …   0.747141  0.823383   0.907404  1.0\n",
       " 0.773122    0.784254   0.795545       0.95802   0.971814   0.985806  1.0\n",
       " 0.623176    0.639767   0.656798       0.924205  0.948809   0.974069  1.0\n",
       " 1.07566     1.07131    1.06698        1.01223   1.00814    1.00406   1.0"
      ]
     },
     "metadata": {},
     "output_type": "display_data"
    }
   ],
   "source": [
    "# Fit the data using a function of the form y = f(x) = u1 x^k + u2 x^(k-1) + ... + uk x + u{k+1}\n",
    "\n",
    "# Order of polynomial used for fitting\n",
    "k = 18\n",
    "\n",
    "# Create the A matrix (where each row corresponds to one observation x_i and each column is an x^k term)\n",
    "n = length(x)\n",
    "A = zeros(n,k+1)\n",
    "for i = 1:n\n",
    "    for j = 1:k+1\n",
    "        A[i,j] = x[i]^(k+1-j)\n",
    "    end\n",
    "end\n",
    "A"
   ]
  },
  {
   "cell_type": "code",
   "execution_count": 15,
   "metadata": {},
   "outputs": [
    {
     "name": "stdout",
     "output_type": "stream",
     "text": [
      "Running HiGHS 1.6.0: Copyright (c) 2023 HiGHS under MIT licence terms\n",
      "Iteration, Runtime, ObjVal, NullspaceDim\n",
      "0, 0.000452, 3073.967606, 19\n",
      "3, 0.000733, 522.039311, 19\n",
      "Model   status      : Optimal\n",
      "Objective value     :  5.2203999098e+02\n",
      "HiGHS run time      :          0.00\n",
      "OPTIMAL\n",
      "The error is 522.0399909810724\n",
      "The coefficients are [-85777.96987569737, -34190.35284858116, 391618.11446229444, 145410.400856986, -743933.078416506, -248442.9827777201, 761790.0455611285, 214415.78339220045, -455126.1937070716, -93662.63157967123, 160101.09152807322, 15385.569783950783, -31648.88748634598, 1765.1586151727297, 3070.4161891439185, -713.8251991827888, -106.44740057256564, 33.180843520283986, 3.92627202618853]\n"
     ]
    }
   ],
   "source": [
    "# Solve the LEAST SQUARES polynomial fit\n",
    "\n",
    "using JuMP, HiGHS\n",
    "m18 = Model(HiGHS.Optimizer)\n",
    "\n",
    "@variable(m18, u[1:k+1])\n",
    "@objective(m18, Min, sum( (y - A*u).^2 ) )\n",
    "\n",
    "optimize!(m18)\n",
    "uopt18 = value.(u)\n",
    "println(termination_status(m18))\n",
    "println(\"The error is \", objective_value(m18))\n",
    "println(\"The coefficients are \", uopt18)"
   ]
  },
  {
   "cell_type": "markdown",
   "metadata": {},
   "source": [
    "###### 2-3"
   ]
  },
  {
   "cell_type": "code",
   "execution_count": 17,
   "metadata": {},
   "outputs": [
    {
     "data": {
      "image/png": "[encoded data removed]",
      "text/plain": [
       "Figure(PyObject <Figure size 800x400 with 1 Axes>)"
      ]
     },
     "metadata": {},
     "output_type": "display_data"
    },
    {
     "data": {
      "image/png": "[encoded data removed]",
      "text/plain": [
       "Figure(PyObject <Figure size 800x400 with 1 Axes>)"
      ]
     },
     "metadata": {},
     "output_type": "display_data"
    }
   ],
   "source": [
    "using PyPlot, LinearAlgebra\n",
    "function plotwregsol(x,y,usol)\n",
    "\n",
    "    minx = minimum(x)\n",
    "    maxx = maximum(x)\n",
    "    miny = minimum(y)\n",
    "    maxy = maximum(y)   \n",
    "\n",
    "    # Make (npts,k+1) matrix containing polynomial term values at plot points.  Fancy matrix stuff.\n",
    "    npts = 100\n",
    "    xfine = range(minx,stop=maxx,length=npts)\n",
    "    ffine = ones(npts)\n",
    "    for j = 1:k\n",
    "        ffine = [ffine.*xfine ones(npts)]\n",
    "    end\n",
    "\n",
    "    # Compute the estimate values\n",
    "    yfine = ffine * usol\n",
    "\n",
    "    # Plot 'em\n",
    "    figure(figsize=(8,4))\n",
    "    plot(x,y,\"r.\", markersize=10)\n",
    "    plot( xfine, yfine, \"b-\")\n",
    "\n",
    "    axis([minx-1,maxx+1,miny-1,maxy+1])\n",
    "\n",
    "    grid()\n",
    "    display(gcf())\n",
    "end\n",
    "k = 6\n",
    "plotwregsol(x,y,uopt6)\n",
    "k = 18\n",
    "plotwregsol(x,y,uopt18)"
   ]
  },
  {
   "cell_type": "markdown",
   "metadata": {},
   "source": [
    "###### 2-4"
   ]
  },
  {
   "cell_type": "code",
   "execution_count": null,
   "metadata": {},
   "outputs": [],
   "source": []
  },
  {
   "cell_type": "markdown",
   "metadata": {},
   "source": [
    "##### 3. Beam Me Up\n",
    "###### 3-1"
   ]
  },
  {
   "cell_type": "code",
   "execution_count": null,
   "metadata": {},
   "outputs": [],
   "source": []
  },
  {
   "cell_type": "markdown",
   "metadata": {},
   "source": [
    "###### 3-2"
   ]
  },
  {
   "cell_type": "code",
   "execution_count": null,
   "metadata": {},
   "outputs": [],
   "source": []
  },
  {
   "cell_type": "markdown",
   "metadata": {},
   "source": []
  },
  {
   "cell_type": "markdown",
   "metadata": {},
   "source": [
    "###### 3-3"
   ]
  },
  {
   "cell_type": "code",
   "execution_count": null,
   "metadata": {},
   "outputs": [],
   "source": []
  },
  {
   "cell_type": "markdown",
   "metadata": {},
   "source": [
    "##### 4. Nonconvex QP\n",
    "###### 4-1"
   ]
  },
  {
   "cell_type": "code",
   "execution_count": null,
   "metadata": {},
   "outputs": [],
   "source": []
  },
  {
   "cell_type": "markdown",
   "metadata": {},
   "source": [
    "###### 4-2"
   ]
  },
  {
   "cell_type": "code",
   "execution_count": null,
   "metadata": {},
   "outputs": [],
   "source": []
  },
  {
   "cell_type": "markdown",
   "metadata": {},
   "source": [
    "###### 4-3"
   ]
  },
  {
   "cell_type": "code",
   "execution_count": null,
   "metadata": {},
   "outputs": [],
   "source": []
  },
  {
   "cell_type": "markdown",
   "metadata": {},
   "source": [
    "###### 4-4"
   ]
  },
  {
   "cell_type": "code",
   "execution_count": null,
   "metadata": {},
   "outputs": [],
   "source": []
  },
  {
   "cell_type": "markdown",
   "metadata": {},
   "source": [
    "##### 5. Pod Racing Rendezvous\n",
    "###### 5-1"
   ]
  },
  {
   "cell_type": "code",
   "execution_count": null,
   "metadata": {},
   "outputs": [],
   "source": []
  },
  {
   "cell_type": "markdown",
   "metadata": {},
   "source": [
    "###### 5-2"
   ]
  },
  {
   "cell_type": "code",
   "execution_count": null,
   "metadata": {},
   "outputs": [],
   "source": []
  },
  {
   "cell_type": "markdown",
   "metadata": {},
   "source": [
    "###### 5-3"
   ]
  },
  {
   "cell_type": "code",
   "execution_count": null,
   "metadata": {},
   "outputs": [],
   "source": []
  },
  {
   "cell_type": "markdown",
   "metadata": {},
   "source": [
    "###### 5-4"
   ]
  },
  {
   "cell_type": "code",
   "execution_count": null,
   "metadata": {},
   "outputs": [],
   "source": []
  },
  {
   "cell_type": "markdown",
   "metadata": {},
   "source": [
    "###### 5-5"
   ]
  }
 ],
 "metadata": {
  "kernelspec": {
   "display_name": "Julia 1.10.0",
   "language": "julia",
   "name": "julia-1.10"
  },
  "language_info": {
   "file_extension": ".jl",
   "mimetype": "application/julia",
   "name": "julia",
   "version": "1.10.0"
  }
 },
 "nbformat": 4,
 "nbformat_minor": 2
}
