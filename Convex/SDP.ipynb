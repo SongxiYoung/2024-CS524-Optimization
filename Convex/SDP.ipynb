{
 "cells": [
  {
   "cell_type": "markdown",
   "metadata": {},
   "source": [
    "The set of PSD matrices\n",
    "$$\\mathcal{S}^n_+ := \\{ X \\in \\mathcal{S} : z^T X z \\geq 0 \\ \\forall z \\in \\mathbb{R}^n \\},$$\n",
    "where $\\mathcal{S}^n$ is the set of symmetric n by n matrices, forms a convex cone.\n",
    "\n",
    "If symmetric matrix $Q$ has eigenvalues $\\lambda_1, \\lambda_2 \\ldots \\lambda_n$, then $tI-Q$ has eigenvalues $t-\\lambda_1, t-\\lambda_2 \\ldots t-\\lambda_n$.  $tI-Q$ is PSD exactly when all its eignevalues are non-negative, which is true only when $t \\geq \\lambda_1$ its largest eigenvalue.  Thus, we can model the problem of finding the largest eigenvalue of a symmetric matrix $Q$ with the following optimization problem \n",
    "\n",
    "$$\\lambda_1 = \\min t : tI - Q \\succeq 0$$"
   ]
  },
  {
   "cell_type": "code",
   "execution_count": null,
   "metadata": {},
   "outputs": [],
   "source": [
    "# This one will only work with SCS optimizer. \n",
    "using JuMP, LinearAlgebra, SCS \n",
    "\n",
    "A = [3 2 4; 2 0 2; 4 2 3]\n",
    "I = Matrix{Float64}(LinearAlgebra.I, 3, 3)\n",
    "model = Model(SCS.Optimizer)\n",
    "set_silent(model)\n",
    "@variable(model, t)\n",
    "@objective(model, Min, t)\n",
    "@constraint(model, t .* I - A in PSDCone())\n",
    "optimize!(model)\n",
    "@assert is_solved_and_feasible(model)\n",
    "objective_value(model)"
   ]
  },
  {
   "cell_type": "markdown",
   "metadata": {},
   "source": [
    "Let's see an SDP where we minimize the amount added to the diagonal of a symmetric (non-PSD) matrix in order to make it PSD "
   ]
  },
  {
   "cell_type": "markdown",
   "metadata": {},
   "source": []
  },
  {
   "cell_type": "code",
   "execution_count": null,
   "metadata": {},
   "outputs": [],
   "source": [
    "using LinearAlgebra \n",
    "Q = [2 4 -2 -1; 4 -1 3 0; -2 3 0 0; -1 0 0 3]\n",
    "eig = eigen(Q)\n",
    "print(\"Min eigenvalue is \", minimum(eig.values))\n",
    "\n",
    "# Now lets find the smallest amount to Q to make it PSD \n",
    "model = Model(SCS.Optimizer)\n",
    "@variable(model, X[1:4, 1:4])\n",
    "@objective(model, Min, sum(X[j,j] for j in 1:4))\n",
    "\n",
    "for i in 1:4\n",
    "    for j in 1:4\n",
    "        if i != j\n",
    "            @constraint(model, X[i,j] == 0)\n",
    "        end \n",
    "    end \n",
    "end \n",
    "\n",
    "@constraint(model, (X + Q) in PSDCone())\n",
    "\n",
    "#print(model)\n",
    "\n",
    "optimize!(model)\n",
    "@assert is_solved_and_feasible(model)\n",
    "print(objective_value(model))\n",
    "value.(X)"
   ]
  }
 ],
 "metadata": {
  "kernelspec": {
   "display_name": "Julia 1.10.0",
   "language": "julia",
   "name": "julia-1.10"
  },
  "language_info": {
   "file_extension": ".jl",
   "mimetype": "application/julia",
   "name": "julia",
   "version": "1.10.0"
  }
 },
 "nbformat": 4,
 "nbformat_minor": 2
}
