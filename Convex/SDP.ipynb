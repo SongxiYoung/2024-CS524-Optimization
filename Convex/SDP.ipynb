{
 "cells": [
  {
   "cell_type": "markdown",
   "metadata": {},
   "source": [
    "The set of PSD matrices\n",
    "$$\\mathcal{S}^n_+ := \\{ X \\in \\mathcal{S} : z^T X z \\geq 0 \\ \\forall z \\in \\mathbb{R}^n \\},$$\n",
    "where $\\mathcal{S}^n$ is the set of symmetric n by n matrices, forms a convex cone.\n",
    "\n",
    "If symmetric matrix $Q$ has eigenvalues $\\lambda_1, \\lambda_2 \\ldots \\lambda_n$, then $tI-Q$ has eigenvalues $t-\\lambda_1, t-\\lambda_2 \\ldots t-\\lambda_n$.  $tI-Q$ is PSD exactly when all its eignevalues are non-negative, which is true only when $t \\geq \\lambda_1$ its largest eigenvalue.  Thus, we can model the problem of finding the largest eigenvalue of a symmetric matrix $Q$ with the following optimization problem \n",
    "\n",
    "$$\\lambda_1 = \\min t : tI - Q \\succeq 0$$"
   ]
  },
  {
   "cell_type": "code",
   "execution_count": 3,
   "metadata": {},
   "outputs": [
    {
     "name": "stdout",
     "output_type": "stream",
     "text": [
      "The model is solved and feasible.\n"
     ]
    },
    {
     "data": {
      "text/plain": [
       "8.000003377698677"
      ]
     },
     "metadata": {},
     "output_type": "display_data"
    }
   ],
   "source": [
    "# This one will only work with SCS optimizer. \n",
    "using JuMP, LinearAlgebra, SCS \n",
    "\n",
    "A = [3 2 4; 2 0 2; 4 2 3]\n",
    "I = Matrix{Float64}(LinearAlgebra.I, 3, 3)\n",
    "model = Model(SCS.Optimizer)\n",
    "set_silent(model)\n",
    "@variable(model, t)\n",
    "@objective(model, Min, t)\n",
    "@constraint(model, t .* I - A in PSDCone())\n",
    "optimize!(model)\n",
    "if termination_status(model) == MOI.OPTIMAL && primal_status(model) == MOI.FEASIBLE_POINT\n",
    "    println(\"The model is solved and feasible.\")\n",
    "else\n",
    "    println(\"The model is not solved or not feasible.\")\n",
    "end\n",
    "objective_value(model)"
   ]
  },
  {
   "cell_type": "markdown",
   "metadata": {},
   "source": [
    "Let's see an SDP where we minimize the amount added to the diagonal of a symmetric (non-PSD) matrix in order to make it PSD "
   ]
  },
  {
   "cell_type": "markdown",
   "metadata": {},
   "source": []
  },
  {
   "cell_type": "code",
   "execution_count": 4,
   "metadata": {},
   "outputs": [
    {
     "name": "stdout",
     "output_type": "stream",
     "text": [
      "Min eigenvalue is -5.980990681956462------------------------------------------------------------------\n",
      "\t       SCS v3.2.4 - Splitting Conic Solver\n",
      "\t(c) Brendan O'Donoghue, Stanford University, 2012\n",
      "------------------------------------------------------------------\n",
      "problem:  variables n: 16, constraints m: 28\n",
      "cones: \t  z: primal zero / dual free vars: 18\n",
      "\t  s: psd vars: 10, ssize: 1\n",
      "settings: eps_abs: 1.0e-04, eps_rel: 1.0e-04, eps_infeas: 1.0e-07\n",
      "\t  alpha: 1.50, scale: 1.00e-01, adaptive_scale: 1\n",
      "\t  max_iters: 100000, normalize: 1, rho_x: 1.00e-06\n",
      "\t  acceleration_lookback: 10, acceleration_interval: 10\n",
      "lin-sys:  sparse-direct-amd-qdldl\n",
      "\t  nnz(A): 34, nnz(P): 0\n",
      "------------------------------------------------------------------\n",
      " iter | pri res | dua res |   gap   |   obj   |  scale  | time (s)\n",
      "------------------------------------------------------------------\n",
      "     0| 3.13e+01  1.00e+00  1.22e+02 -6.03e+01  1.00e-01  1.20e-04 \n",
      "    75| 1.57e-05  2.96e-06  2.70e-05  1.60e+01  1.00e-01  4.59e-04 \n",
      "------------------------------------------------------------------\n",
      "status:  solved\n",
      "timings: total: 4.60e-04s = setup: 8.73e-05s + solve: 3.73e-04s\n",
      "\t lin-sys: 5.08e-05s, cones: 2.55e-04s, accel: 5.46e-06s\n",
      "------------------------------------------------------------------\n",
      "objective = 16.000058\n",
      "------------------------------------------------------------------\n",
      "The model is solved and feasible.\n",
      "16.000071329897985"
     ]
    },
    {
     "data": {
      "text/plain": [
       "4×4 Matrix{Float64}:\n",
       "  5.00001      -3.35548e-9   -4.03379e-10  -9.22264e-9\n",
       " -1.45476e-9    8.00001      -6.79211e-10   9.55323e-9\n",
       " -1.74883e-10  -2.94469e-10   5.00001      -1.18989e-8\n",
       " -3.99843e-9    4.14176e-9   -5.15873e-9   -1.99996"
      ]
     },
     "metadata": {},
     "output_type": "display_data"
    }
   ],
   "source": [
    "using LinearAlgebra \n",
    "Q = [2 4 -2 -1; 4 -1 3 0; -2 3 0 0; -1 0 0 3]\n",
    "eig = eigen(Q)\n",
    "print(\"Min eigenvalue is \", minimum(eig.values))\n",
    "\n",
    "# Now lets find the smallest amount to Q to make it PSD \n",
    "model = Model(SCS.Optimizer)\n",
    "@variable(model, X[1:4, 1:4])\n",
    "@objective(model, Min, sum(X[j,j] for j in 1:4))\n",
    "\n",
    "for i in 1:4\n",
    "    for j in 1:4\n",
    "        if i != j\n",
    "            @constraint(model, X[i,j] == 0)\n",
    "        end \n",
    "    end \n",
    "end \n",
    "\n",
    "@constraint(model, (X + Q) in PSDCone())\n",
    "\n",
    "#print(model)\n",
    "\n",
    "optimize!(model)\n",
    "if termination_status(model) == MOI.OPTIMAL && primal_status(model) == MOI.FEASIBLE_POINT\n",
    "    println(\"The model is solved and feasible.\")\n",
    "else\n",
    "    println(\"The model is not solved or not feasible.\")\n",
    "end\n",
    "print(objective_value(model))\n",
    "value.(X)"
   ]
  }
 ],
 "metadata": {
  "kernelspec": {
   "display_name": "Julia 1.10.0",
   "language": "julia",
   "name": "julia-1.10"
  },
  "language_info": {
   "file_extension": ".jl",
   "mimetype": "application/julia",
   "name": "julia",
   "version": "1.10.0"
  }
 },
 "nbformat": 4,
 "nbformat_minor": 2
}
