{
 "cells": [
  {
   "cell_type": "markdown",
   "metadata": {},
   "source": [
    "A second order cone (Ice-cream cone, Lorentz cone) of dimension $n$ is the set $$K_{soc} := \\{(t,x) \\in \\mathbb{R}^n : t \\geq \\|x\\|_2 \\}$$\n",
    "\n",
    "So it can be used to model the epigraph of the 2-norm $\\|\\cdot\\|_2$"
   ]
  },
  {
   "cell_type": "code",
   "execution_count": null,
   "metadata": {},
   "outputs": [],
   "source": [
    "using JuMP\n",
    "using LinearAlgebra\n",
    "# Let's try out some solver for SOCP\n",
    "# You will need to upgrade JuMP to >= 1.20 to use this\n",
    "#  Pkg.update() should do the trick.  Then restart the kernel.\n",
    "using SCS, ECOS, HiGHS, Gurobi, Ipopt\n",
    "\n",
    "# This will only work with SCS, ECOS, and Gurobi\n",
    "\n",
    "model = Model(Gurobi.Optimizer)\n",
    "set_silent(model)\n",
    "@variable(model, x[1:3])\n",
    "@variable(model, t)\n",
    "@constraint(model, sum(x) == 1)\n",
    "@constraint(model, [t; x] in SecondOrderCone())\n",
    "@objective(model, Min, t)\n",
    "optimize!(model)\n",
    "@assert is_solved_and_feasible(model)\n",
    "value(t), value.(x)\n"
   ]
  },
  {
   "cell_type": "markdown",
   "metadata": {},
   "source": [
    "A rotated second order cone is a conic set of the form \n",
    "$$K_{rsoc} := \\{(t,u,x) \\in \\mathbb{R}^n : 2tu \\geq \\|x\\|_2^2 \\}$$\n",
    "\n",
    "When $u=0.5$ it models the epigraph of the sum of squares of a vector\n",
    "(but it is more general)"
   ]
  },
  {
   "cell_type": "code",
   "execution_count": null,
   "metadata": {},
   "outputs": [],
   "source": [
    "data = [1.0, 2.0, 3.0, 4.0]\n",
    "target = [0.45, 1.04, 1.51, 1.97]\n",
    "model = Model(Gurobi.Optimizer)\n",
    "set_silent(model)\n",
    "@variable(model, θ)\n",
    "@variable(model, t)\n",
    "@expression(model, residuals, θ * data .- target)\n",
    "@constraint(model, [t; 0.5; residuals] in RotatedSecondOrderCone())\n",
    "@objective(model, Min, t)\n",
    "optimize!(model)\n",
    "@assert is_solved_and_feasible(model)\n",
    "value(θ), value(t)"
   ]
  },
  {
   "cell_type": "markdown",
   "metadata": {},
   "source": [
    "Rotated second order cones can be useful for modeling the epigraph of rational powers.  \n",
    "For example, one can show that \n",
    "$$2ut \\geq x^2 , 2 \\frac{1}{8} x \\geq u^2 \\Rightarrow t \\geq x^{3/2}$$\n",
    "\n",
    "(Square the first inequality, then multiply the two together)\n",
    "\n",
    "For example, let solve: \n",
    "$$\\min x^{3/2} + y^2 : x + y = 2$$"
   ]
  },
  {
   "cell_type": "code",
   "execution_count": null,
   "metadata": {},
   "outputs": [],
   "source": [
    "model = Model(Gurobi.Optimizer)\n",
    "set_silent(model)\n",
    "\n",
    "@variable(model, x)\n",
    "@variable(model, y)\n",
    "\n",
    "@variable(model, u >= 0)\n",
    "@variable(model, t1 >= 0)\n",
    "@variable(model, t2 >= 0)\n",
    "\n",
    "@constraint(model, x+y == 2)\n",
    "\n",
    "@constraint(model, [u, t1, x] in RotatedSecondOrderCone())\n",
    "@constraint(model, [0.125, x, u] in RotatedSecondOrderCone())\n",
    "\n",
    "@constraint(model, [t2, 0.5, y] in RotatedSecondOrderCone())\n",
    "\n",
    "@objective(model, Min, t1 + t2)\n",
    "optimize!(model)\n",
    "@assert is_solved_and_feasible(model)\n",
    "println(objective_value(model), \":\", value(x), \",\", value(y))"
   ]
  },
  {
   "cell_type": "markdown",
   "metadata": {},
   "source": []
  }
 ],
 "metadata": {
  "kernelspec": {
   "display_name": "Julia 1.10.0",
   "language": "julia",
   "name": "julia-1.10"
  },
  "language_info": {
   "file_extension": ".jl",
   "mimetype": "application/julia",
   "name": "julia",
   "version": "1.10.0"
  }
 },
 "nbformat": 4,
 "nbformat_minor": 2
}
