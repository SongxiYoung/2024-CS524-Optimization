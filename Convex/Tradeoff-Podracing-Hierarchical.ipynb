{
 "cells": [
  {
   "attachments": {},
   "cell_type": "markdown",
   "metadata": {},
   "source": [
    "# Tradeoff Problem Example: Podracing\n",
    "\n",
    "We are entered in the race of the century! Just like Anakin Skywalker, we built our own podracer and are about to begin the race. The official informs us that there are certain “checkpoints” that we need to hit. Our goal is to save as much fuel as possible so we don’t run out during the race.\n",
    "\n",
    "Before we start the race, we must figure out the appropriate thruster burns at each instant.\n",
    " * We’ll (approximately) model thrust as a 2D vector containing info on direction change\n",
    " * Amount of fuel we consume when we use thrusters is calculated as $L_2$ norm of thrust vector\n",
    " * Suppose the officials aren’t watching the checkpoints very closely, so long as we “sort of” hit the checkpoints we’ll be okay\n",
    "\n",
    " In this version of the problem, we'll enforce the constraints in a \"soft\" manner with a box of feasbility, and then we will solve this in a hierarchical manner.  To use almost a minimum amount of fuel, but try to go as slow as possible at the end of the lap"
   ]
  },
  {
   "cell_type": "code",
   "execution_count": null,
   "metadata": {},
   "outputs": [],
   "source": [
    "using JuMP, Ipopt, LinearAlgebra\n",
    "\n",
    "k = 4              # number of checkpoints\n",
    "T = zeros(Int,k)   # vector of timepoints\n",
    "xw = zeros(2,k)    # vector of checkpoint locations\n",
    "\n",
    "# times at which we must hit checkpoints\n",
    "T[1] = 1\n",
    "T[2] = 20\n",
    "T[3] = 50\n",
    "T[4] = 60\n",
    "\n",
    "# define checkpoints' x and y coords\n",
    "way_xy = [ 1   4   6   1\n",
    "           1   3   0   1 ]\n",
    "\n",
    "β = 0.1 \n",
    "\n",
    "m = Model(Ipopt.Optimizer)  # Since we have a nonlinear constraint in the hierarchical problem, we need a new solver Ipopt\n",
    "set_silent(m)\n",
    "\n",
    "@variable(m, x[1:2,1:T[k]])  # position at each time\n",
    "@variable(m, v[1:2,1:T[k]])  # velocity at each time\n",
    "@variable(m, u[1:2,1:T[k]])  # thruster input at each time\n",
    "\n",
    "# satisfy the dynamics (with zero initial velocity)\n",
    "@constraint(m, v[:,1] .== [0;0])\n",
    "@constraint(m, x[:,1] .== [1;1])\n",
    "# model system dynamics\n",
    "for t in 1:T[k]-1\n",
    "    @constraint(m, x[:,t+1] .== x[:,t] + v[:,t])\n",
    "    @constraint(m, v[:,t+1] .== v[:,t] + u[:,t])\n",
    "end\n",
    "\n",
    "### COMMENT AND UNCOMMENT DEPENDING ON WHETHER CHECKPOINTS ARE CONSTRAINTS ###\n",
    "# hit all the checkpoints\n",
    "for i in 1:k\n",
    "    @constraint(m, x[:,T[i]] .<= way_xy[:,i] + β/2*ones(2))\n",
    "    @constraint(m, x[:,T[i]] .>= way_xy[:,i] - β/2*ones(2))\n",
    "end\n",
    "\n",
    "\n",
    "# minimize 2-norm (THIS IS LEAST-SQUARES)\n",
    "@objective(m, Min, sum(u.^2))\n",
    "optimize!(m)\n",
    "\n",
    "fuel_used = objective_value(m)\n",
    "final_velocity = norm(value.(v[:,T[k]]))\n",
    "xopt = value.(x)\n",
    "\n",
    "println(\"fuel: \", 100*fuel_used, \" final v: \", final_velocity)"
   ]
  },
  {
   "cell_type": "markdown",
   "metadata": {},
   "source": [
    "## Plot Model Output\n",
    "\n",
    "We can visualize our solution by plotting the output below:\n"
   ]
  },
  {
   "cell_type": "code",
   "execution_count": null,
   "metadata": {},
   "outputs": [],
   "source": [
    "# plot the solution against the checkpoints\n",
    "using PyPlot\n",
    "\n",
    "function plotRace(x)\n",
    "\n",
    "    figure(figsize=(12,4))\n",
    "    plot( x[1,:], x[2,:], \"b.-\", markersize=4 )\n",
    "    plot( x[1,:][T], x[2,:][T], \"b.\", markersize=12 )\n",
    "    plot( way_xy[1,:], way_xy[2,:], \"r.\", markersize=12 )\n",
    "    axis(\"equal\")\n",
    "    axis((1.,8.,-.5,3.5));\n",
    "    # Only need this in vscode?\n",
    "    display(gcf())\n",
    "end\n",
    ";"
   ]
  },
  {
   "cell_type": "code",
   "execution_count": null,
   "metadata": {},
   "outputs": [],
   "source": [
    "plotRace(xopt)\n"
   ]
  },
  {
   "attachments": {},
   "cell_type": "markdown",
   "metadata": {},
   "source": [
    "# Let's go slow\n",
    "\n",
    "Now suppose that we have to use no more than 10% of the fuel we used, but we would like to be going as slow as possible when we reach the end (at time period 30)\n",
    "\n",
    "Do do this, we add a constraint that\n",
    "$\\sum_{t \\in T} \\|u_t\\|^2 \\leq 1.1 F^*$, where $F^*$ is the optimal (smallest) amount of fuel used---obtained on our first solution."
   ]
  },
  {
   "cell_type": "code",
   "execution_count": null,
   "metadata": {},
   "outputs": [],
   "source": [
    "\n",
    "@constraint(m, sum(u.^2) <= 1.1*fuel_used)\n",
    "\n",
    "@objective(m, Min, sum(v[:,T[k]].^2))\n",
    "optimize!(m)\n",
    "fuel_used = value(sum(u.^2))\n",
    "final_velocity = norm(value.(v[:,T[k]]))\n",
    "xopt = value.(x)\n",
    "\n",
    "println(\"fuel: \", 100*fuel_used, \" final v: \", final_velocity)"
   ]
  },
  {
   "attachments": {},
   "cell_type": "markdown",
   "metadata": {},
   "source": [
    "Now we can plot it again.  Note that the velocity seems to be smaller than the original solution"
   ]
  },
  {
   "cell_type": "code",
   "execution_count": null,
   "metadata": {},
   "outputs": [],
   "source": [
    "plotRace(xopt)"
   ]
  }
 ],
 "metadata": {
  "kernelspec": {
   "display_name": "Julia 1.10.0",
   "language": "julia",
   "name": "julia-1.10"
  },
  "language_info": {
   "file_extension": ".jl",
   "mimetype": "application/julia",
   "name": "julia",
   "version": "1.10.0"
  }
 },
 "nbformat": 4,
 "nbformat_minor": 4
}
