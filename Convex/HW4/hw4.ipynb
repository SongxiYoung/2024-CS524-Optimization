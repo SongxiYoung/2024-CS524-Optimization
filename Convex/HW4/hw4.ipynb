{
 "cells": [
  {
   "cell_type": "markdown",
   "metadata": {},
   "source": [
    "### ISyE524: Intro to Optimization\n",
    "#### Problem Set #4\n",
    "##### 1. Portfolio Optimization\n",
    "###### 1-1"
   ]
  },
  {
   "cell_type": "code",
   "execution_count": null,
   "metadata": {},
   "outputs": [],
   "source": []
  },
  {
   "cell_type": "markdown",
   "metadata": {},
   "source": [
    "###### 1-2"
   ]
  },
  {
   "cell_type": "code",
   "execution_count": null,
   "metadata": {},
   "outputs": [],
   "source": []
  },
  {
   "cell_type": "markdown",
   "metadata": {},
   "source": [
    "###### 1-3"
   ]
  },
  {
   "cell_type": "code",
   "execution_count": null,
   "metadata": {},
   "outputs": [],
   "source": []
  },
  {
   "cell_type": "markdown",
   "metadata": {},
   "source": [
    "###### 1-4"
   ]
  },
  {
   "cell_type": "code",
   "execution_count": null,
   "metadata": {},
   "outputs": [],
   "source": []
  },
  {
   "cell_type": "markdown",
   "metadata": {},
   "source": [
    "##### 2. Making An Indefinite Matrix Definite\n",
    "###### 2-1"
   ]
  },
  {
   "cell_type": "code",
   "execution_count": 4,
   "metadata": {},
   "outputs": [
    {
     "data": {
      "text/plain": [
       "6-element Vector{Float64}:\n",
       " -16.119094460644884\n",
       "  -3.756648129364134\n",
       "  -0.5922928569671964\n",
       "   2.2331144580905455\n",
       "   3.845741541835814\n",
       "  10.389179447049864"
      ]
     },
     "metadata": {},
     "output_type": "display_data"
    }
   ],
   "source": [
    "using LinearAlgebra\n",
    "\n",
    "# Define the matrix Q\n",
    "Q = [\n",
    "    0 0 -2 -4 0 1;\n",
    "    0 1 -1 -1 3 -4;\n",
    "    -2 -1 -1 -5 7 -4;\n",
    "    -4 -1 -5 -3 7 -2;\n",
    "    0 3 7 7 -1 -2;\n",
    "    1 -4 -4 -2 -2 0\n",
    "]\n",
    "\n",
    "# Compute the eigenvalues and eigenvectors\n",
    "eigenvalues = eigen(Q).values\n",
    "# eigenvectors = eigen(Q).vectors\n",
    "eigenvalues\n"
   ]
  },
  {
   "cell_type": "markdown",
   "metadata": {},
   "source": [
    "###### 2-2\n",
    "\n",
    "\\begin{align*}\n",
    "\\text{Minimize} \\quad & \\sum_{i} D_{ii} \\\\\n",
    "\\text{Subject to:} \\quad & x^{T}(Q+D)x≥0\n",
    "\\end{align*}"
   ]
  },
  {
   "cell_type": "markdown",
   "metadata": {},
   "source": [
    "###### 2-3"
   ]
  },
  {
   "cell_type": "code",
   "execution_count": 6,
   "metadata": {},
   "outputs": [
    {
     "name": "stdout",
     "output_type": "stream",
     "text": [
      "------------------------------------------------------------------\n",
      "\t       SCS v3.2.4 - Splitting Conic Solver\n",
      "\t(c) Brendan O'Donoghue, Stanford University, 2012\n",
      "------------------------------------------------------------------\n",
      "problem:  variables n: 6, constraints m: 27\n",
      "cones: \t  l: linear vars: 6\n",
      "\t  s: psd vars: 21, ssize: 1\n",
      "settings: eps_abs: 1.0e-04, eps_rel: 1.0e-04, eps_infeas: 1.0e-07\n",
      "\t  alpha: 1.50, scale: 1.00e-01, adaptive_scale: 1\n",
      "\t  max_iters: 100000, normalize: 1, rho_x: 1.00e-06\n",
      "\t  acceleration_lookback: 10, acceleration_interval: 10\n",
      "lin-sys:  sparse-direct-amd-qdldl\n",
      "\t  nnz(A): 12, nnz(P): 0\n",
      "------------------------------------------------------------------\n",
      " iter | pri res | dua res |   gap   |   obj   |  scale  | time (s)\n",
      "------------------------------------------------------------------\n",
      "     0| 1.07e+01  3.37e+00  2.30e+02  9.47e+01  1.00e-01  9.92e-05 \n",
      "   125| 6.91e-07  6.91e-07  5.93e-06  7.80e+01  1.00e-01  9.48e-04 \n",
      "------------------------------------------------------------------\n",
      "status:  solved\n",
      "timings: total: 9.50e-04s = setup: 6.35e-05s + solve: 8.86e-04s\n",
      "\t lin-sys: 5.30e-05s, cones: 7.48e-04s, accel: 2.10e-05s\n",
      "------------------------------------------------------------------\n",
      "objective = 78.000003\n",
      "------------------------------------------------------------------\n",
      "Optimal D: [5.000001489474506, 8.0000008745262, 20.000000925331495, 22.000001066052636, 16.000001154924853, 7.000000554819227]\n",
      "Sum of the diagonal elements of D: 78.0000060651289\n"
     ]
    }
   ],
   "source": [
    "using JuMP, SCS  \n",
    "using LinearAlgebra\n",
    "\n",
    "# Define the matrix Q\n",
    "Q = [\n",
    "    0 0 -2 -4 0 1;\n",
    "    0 1 -1 -1 3 -4;\n",
    "    -2 -1 -1 -5 7 -4;\n",
    "    -4 -1 -5 -3 7 -2;\n",
    "    0 3 7 7 -1 -2;\n",
    "    1 -4 -4 -2 -2 0\n",
    "]\n",
    "\n",
    "# Find the smallest eigenvalue of Q\n",
    "λ₁ = minimum(eigvals(Q))\n",
    "\n",
    "# Create an optimization model\n",
    "model = Model(SCS.Optimizer)  \n",
    "\n",
    "# Add a variable for the diagonal matrix D\n",
    "@variable(model, D[1:6] >= 0)\n",
    "\n",
    "# The objective is to minimize the trace of D\n",
    "@objective(model, Min, sum(D))\n",
    "\n",
    "# Add the PSD constraint\n",
    "@constraint(model, Q + Diagonal(D) in PSDCone())\n",
    "\n",
    "# Solve the problem\n",
    "optimize!(model)\n",
    "\n",
    "# Check the solution status\n",
    "status = termination_status(model)\n",
    "\n",
    "if status == MOI.OPTIMAL\n",
    "    # Fetch the optimal values of D\n",
    "    optimal_D = value.(D)\n",
    "    sum_optimal_D = sum(optimal_D)\n",
    "    println(\"Optimal D: \", optimal_D)\n",
    "    println(\"Sum of the diagonal elements of D: \", sum_optimal_D)\n",
    "elseif status == MOI.INFEASIBLE\n",
    "    println(\"The problem is infeasible.\")\n",
    "else\n",
    "    println(\"The solver terminated with status: \", status)\n",
    "end\n"
   ]
  },
  {
   "cell_type": "markdown",
   "metadata": {},
   "source": [
    "###### 2-4"
   ]
  },
  {
   "cell_type": "code",
   "execution_count": null,
   "metadata": {},
   "outputs": [],
   "source": []
  },
  {
   "cell_type": "markdown",
   "metadata": {},
   "source": [
    "###### 2-5"
   ]
  },
  {
   "cell_type": "code",
   "execution_count": null,
   "metadata": {},
   "outputs": [],
   "source": []
  }
 ],
 "metadata": {
  "kernelspec": {
   "display_name": "Julia 1.10.0",
   "language": "julia",
   "name": "julia-1.10"
  },
  "language_info": {
   "file_extension": ".jl",
   "mimetype": "application/julia",
   "name": "julia",
   "version": "1.10.0"
  }
 },
 "nbformat": 4,
 "nbformat_minor": 2
}
