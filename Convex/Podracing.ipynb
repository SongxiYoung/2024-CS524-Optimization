{
 "cells": [
  {
   "cell_type": "markdown",
   "metadata": {},
   "source": [
    "# QP: Podracing\n",
    "\n",
    "We are entered in the race of the century! Just like Anakin Skywalker, we built our own podracer and are about to begin the race. The official informs us that there are certain checkpoints that we need to hit. Our goal is to save as much fuel as possible so we don’t run out during the race.\n",
    "\n",
    "Before we start the race, we must figure out the appropriate thruster burns at each instant.\n",
    " * We'll (approximately) model thrust as a 2D vector containing info on direction change\n",
    " * Amount of fuel we consume when we use thrusters is calculated as $L_2$ norm of thrust vector\n",
    " "
   ]
  },
  {
   "cell_type": "code",
   "execution_count": null,
   "metadata": {},
   "outputs": [],
   "source": [
    "using JuMP, HiGHS\n",
    "\n",
    "k = 4              # number of checkpoints\n",
    "T = zeros(Int,k)   # vector of timepoints\n",
    "xw = zeros(2,k)    # vectors of checkpoint locations\n",
    "\n",
    "# times at which we must hit checkpoints\n",
    "T[1] = 1\n",
    "T[2] = 20\n",
    "T[3] = 50\n",
    "T[4] = 60\n",
    "\n",
    "# define checkpoints' x and y coords\n",
    "way_xy = [ 1   4   6   1\n",
    "           1   3   0   1 ]\n",
    "\n",
    "m = Model(HiGHS.Optimizer) \n",
    "set_silent(m)\n",
    "\n",
    "@variable(m, x[1:2,1:T[k]])  # position at each time\n",
    "@variable(m, v[1:2,1:T[k]])  # velocity at each time\n",
    "@variable(m, u[1:2,1:T[k]])  # thruster input at each time\n",
    "\n",
    "# satisfy the dynamics (with zero initial velocity)\n",
    "# Note the use of '.' form of constraints, to make the constraints hold for each component of the vector \n",
    "\n",
    "@constraint(m, v[:,1] .== [0;0])\n",
    "@constraint(m, x[:,1] .== [1;1])\n",
    "# model system dynamics\n",
    "for t in 1:T[k]-1\n",
    "    @constraint(m, x[:,t+1] .== x[:,t] + v[:,t])\n",
    "    @constraint(m, v[:,t+1] .== v[:,t] + u[:,t])\n",
    "end\n",
    "\n",
    "# hit all the checkpoints\n",
    "for i in 1:k\n",
    "    @constraint(m, x[:,T[i]] .== way_xy[:,i])\n",
    "end\n",
    "\n",
    "# minimize 2-norm (squared) of acceleration\n",
    "@objective(m, Min, sum(u.^2))\n",
    "optimize!(m)\n",
    "y1 = value(sum(u.^2))\n",
    "y2 = value(sum( (x[:,T]-way_xy).^2  ))\n",
    "xopt = value.(x)\n",
    "\n"
   ]
  },
  {
   "cell_type": "markdown",
   "metadata": {},
   "source": [
    "## Plot Model Output\n",
    "\n",
    "We can visualize our solution by plotting the output below:\n"
   ]
  },
  {
   "cell_type": "code",
   "execution_count": null,
   "metadata": {},
   "outputs": [],
   "source": [
    "\n",
    "# plot the solution against the checkpoints\n",
    "using PyPlot\n",
    "figure(figsize=(12,4))\n",
    "plot( xopt[1,:], xopt[2,:], \"b.-\", markersize=4 )\n",
    "plot( xopt[1,:][T], xopt[2,:][T], \"b.\", markersize=12 )\n",
    "plot( way_xy[1,:], way_xy[2,:], \"r.\", markersize=12 )\n",
    "axis(\"equal\")\n",
    "axis((1.,8.,-.5,3.5));\n",
    "# Only need this in vscode?\n",
    "display(gcf())"
   ]
  },
  {
   "cell_type": "code",
   "execution_count": null,
   "metadata": {},
   "outputs": [],
   "source": []
  }
 ],
 "metadata": {
  "kernelspec": {
   "display_name": "Julia 1.10.0",
   "language": "julia",
   "name": "julia-1.10"
  },
  "language_info": {
   "file_extension": ".jl",
   "mimetype": "application/julia",
   "name": "julia",
   "version": "1.10.0"
  }
 },
 "nbformat": 4,
 "nbformat_minor": 4
}
