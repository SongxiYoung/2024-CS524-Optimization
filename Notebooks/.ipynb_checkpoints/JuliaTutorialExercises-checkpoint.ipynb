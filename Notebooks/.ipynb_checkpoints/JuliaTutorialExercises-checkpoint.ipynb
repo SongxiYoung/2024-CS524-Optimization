{
 "cells": [
  {
   "cell_type": "markdown",
   "metadata": {},
   "source": [
    "# Homework 0: Exercises for Julia Tutorial\n",
    "\n",
    "After you have gone through the tutorial, you should be able to fill in these simple exercises. To submit your reponse, please take the following steps: \n",
    "1. Make sure to run all the cells (such that we can see the output that you create).\n",
    "2. Print a pdf of the notebook (make sure that it is easily readable).\n",
    "3. Upload the pdf to Canvas by February 4."
   ]
  },
  {
   "cell_type": "markdown",
   "metadata": {},
   "source": [
    "### Exercises\n",
    "\n",
    "\n",
    "Get started by reading the following statements about your class work and signing that you understand and agree by typing your name at the bottom of this cell.\n",
    "\n",
    "1. You are encouraged to discuss homework problems with classmates and even work in groups. \n",
    "\n",
    "2. However, **the work you turn in must be your own**. You must not communicate files containing code or answers to homework questions to each other.\n",
    "\n",
    "3. Many homeworks require the use of Julia and JuMP. We'll provide instructions to help you install this programming environment on your own computer, together with tutorials and exercises, but ultimate it is your responsibility to ensure that you have a stable platform on which to develop and run Julia code and jupyter notebooks. \n",
    "\n",
    "4. Submission of all homeworks will be through Canvas. You will usually be required to submit a **pdf printout of your jupyter notebook**, NOT source code. \n",
    "\n",
    "    a. Please submit the answers **in the same order as on the assignment**\n",
    "\n",
    "    b. Please denote the start of each question in your notebook using a large font, for example:\n",
    "    # Question 1a\n",
    "\n",
    "\n",
    "5. You can learn to do optimization modeling only by doing it yourself, not by following along what others are doing!\n",
    "\n",
    "6. **PLAGIARISM AND OTHER TYPES OF ACADEMIC MISCONDUCT IS NOT TOLERATED AND WILL HAVE CONSEQUENCES.** Please read [this information](https://conduct.students.wisc.edu/academic-misconduct/) about UW's definition of academic misconduct.\n",
    "\n"
   ]
  },
  {
   "cell_type": "markdown",
   "metadata": {},
   "source": [
    "#### 1.0\n",
    "\n",
    "PLEASE ACKNOWLEDGE YOUR UNDERSTANDING AND ACCEPTANCE OF THESE RULES BY TYPING YOUR NAME HERE: Songxi Yang"
   ]
  },
  {
   "cell_type": "markdown",
   "metadata": {},
   "source": [
    "#### 1.1 Finding help\n",
    "\n",
    "Look up docs for the function `convert`."
   ]
  },
  {
   "cell_type": "code",
   "execution_count": 1,
   "metadata": {},
   "outputs": [
    {
     "data": {
      "text/latex": [
       "\\section{Documentation}\n",
       "Functions, methods and types can be documented by placing a string before the definition:\n",
       "\n",
       "\\begin{verbatim}\n",
       "\"\"\"\n",
       "# The Foo Function\n",
       "`foo(x)`: Foo the living hell out of `x`.\n",
       "\"\"\"\n",
       "foo(x) = ...\n",
       "\\end{verbatim}\n",
       "The \\texttt{@doc} macro can be used directly to both set and retrieve documentation / metadata. The macro has special parsing so that the documented object may occur on the next line:\n",
       "\n",
       "\\begin{verbatim}\n",
       "@doc \"blah\"\n",
       "function foo() ...\n",
       "\\end{verbatim}\n",
       "By default, documentation is written as Markdown, but any object can be used as the first argument.\n",
       "\n",
       "\\subsection{Documenting objects after they are defined}\n",
       "You can document an object after its definition by\n",
       "\n",
       "\\begin{verbatim}\n",
       "@doc \"foo\" function_to_doc\n",
       "@doc \"bar\" TypeToDoc\n",
       "\\end{verbatim}\n",
       "For macros, the syntax is \\texttt{@doc \"macro doc\" :(Module.@macro)} or \\texttt{@doc \"macro doc\" :(string\\_macro\"\")} for string macros. Without the quote \\texttt{:()} the expansion of the macro will be documented.\n",
       "\n",
       "\\subsection{Retrieving Documentation}\n",
       "You can retrieve docs for functions, macros and other objects as follows:\n",
       "\n",
       "\\begin{verbatim}\n",
       "@doc foo\n",
       "@doc @time\n",
       "@doc md\"\"\n",
       "\\end{verbatim}\n",
       "\\subsection{Functions \\& Methods}\n",
       "Placing documentation before a method definition (e.g. \\texttt{function foo() ...} or \\texttt{foo() = ...}) will cause that specific method to be documented, as opposed to the whole function. Method docs are concatenated together in the order they were defined to provide docs for the function.\n",
       "\n"
      ],
      "text/markdown": [
       "# Documentation\n",
       "\n",
       "Functions, methods and types can be documented by placing a string before the definition:\n",
       "\n",
       "```\n",
       "\"\"\"\n",
       "# The Foo Function\n",
       "`foo(x)`: Foo the living hell out of `x`.\n",
       "\"\"\"\n",
       "foo(x) = ...\n",
       "```\n",
       "\n",
       "The `@doc` macro can be used directly to both set and retrieve documentation / metadata. The macro has special parsing so that the documented object may occur on the next line:\n",
       "\n",
       "```\n",
       "@doc \"blah\"\n",
       "function foo() ...\n",
       "```\n",
       "\n",
       "By default, documentation is written as Markdown, but any object can be used as the first argument.\n",
       "\n",
       "## Documenting objects after they are defined\n",
       "\n",
       "You can document an object after its definition by\n",
       "\n",
       "```\n",
       "@doc \"foo\" function_to_doc\n",
       "@doc \"bar\" TypeToDoc\n",
       "```\n",
       "\n",
       "For macros, the syntax is `@doc \"macro doc\" :(Module.@macro)` or `@doc \"macro doc\" :(string_macro\"\")` for string macros. Without the quote `:()` the expansion of the macro will be documented.\n",
       "\n",
       "## Retrieving Documentation\n",
       "\n",
       "You can retrieve docs for functions, macros and other objects as follows:\n",
       "\n",
       "```\n",
       "@doc foo\n",
       "@doc @time\n",
       "@doc md\"\"\n",
       "```\n",
       "\n",
       "## Functions & Methods\n",
       "\n",
       "Placing documentation before a method definition (e.g. `function foo() ...` or `foo() = ...`) will cause that specific method to be documented, as opposed to the whole function. Method docs are concatenated together in the order they were defined to provide docs for the function.\n"
      ],
      "text/plain": [
       "\u001b[1m  Documentation\u001b[22m\n",
       "\u001b[1m  ≡≡≡≡≡≡≡≡≡≡≡≡≡\u001b[22m\n",
       "\n",
       "  Functions, methods and types can be documented by placing a string before\n",
       "  the definition:\n",
       "\n",
       "\u001b[36m  \"\"\"\u001b[39m\n",
       "\u001b[36m  # The Foo Function\u001b[39m\n",
       "\u001b[36m  `foo(x)`: Foo the living hell out of `x`.\u001b[39m\n",
       "\u001b[36m  \"\"\"\u001b[39m\n",
       "\u001b[36m  foo(x) = ...\u001b[39m\n",
       "\n",
       "  The \u001b[36m@doc\u001b[39m macro can be used directly to both set and retrieve documentation /\n",
       "  metadata. The macro has special parsing so that the documented object may\n",
       "  occur on the next line:\n",
       "\n",
       "\u001b[36m  @doc \"blah\"\u001b[39m\n",
       "\u001b[36m  function foo() ...\u001b[39m\n",
       "\n",
       "  By default, documentation is written as Markdown, but any object can be used\n",
       "  as the first argument.\n",
       "\n",
       "\u001b[1m  Documenting objects after they are defined\u001b[22m\n",
       "\u001b[1m  ==========================================\u001b[22m\n",
       "\n",
       "  You can document an object after its definition by\n",
       "\n",
       "\u001b[36m  @doc \"foo\" function_to_doc\u001b[39m\n",
       "\u001b[36m  @doc \"bar\" TypeToDoc\u001b[39m\n",
       "\n",
       "  For macros, the syntax is \u001b[36m@doc \"macro doc\" :(Module.@macro)\u001b[39m or \u001b[36m@doc \"macro\n",
       "  doc\" :(string_macro\"\")\u001b[39m for string macros. Without the quote \u001b[36m:()\u001b[39m the\n",
       "  expansion of the macro will be documented.\n",
       "\n",
       "\u001b[1m  Retrieving Documentation\u001b[22m\n",
       "\u001b[1m  ========================\u001b[22m\n",
       "\n",
       "  You can retrieve docs for functions, macros and other objects as follows:\n",
       "\n",
       "\u001b[36m  @doc foo\u001b[39m\n",
       "\u001b[36m  @doc @time\u001b[39m\n",
       "\u001b[36m  @doc md\"\"\u001b[39m\n",
       "\n",
       "\u001b[1m  Functions & Methods\u001b[22m\n",
       "\u001b[1m  ===================\u001b[22m\n",
       "\n",
       "  Placing documentation before a method definition (e.g. \u001b[36mfunction foo() ...\u001b[39m or\n",
       "  \u001b[36mfoo() = ...\u001b[39m) will cause that specific method to be documented, as opposed to\n",
       "  the whole function. Method docs are concatenated together in the order they\n",
       "  were defined to provide docs for the function."
      ]
     },
     "execution_count": 1,
     "metadata": {},
     "output_type": "execute_result"
    }
   ],
   "source": [
    "?@doc"
   ]
  },
  {
   "cell_type": "markdown",
   "metadata": {},
   "source": [
    "#### 1.2 Assigning variables, checking and converting types\n",
    "Assign `365` to a variable named `days`. "
   ]
  },
  {
   "cell_type": "code",
   "execution_count": 9,
   "metadata": {},
   "outputs": [
    {
     "data": {
      "text/plain": [
       "365"
      ]
     },
     "metadata": {},
     "output_type": "display_data"
    }
   ],
   "source": [
    "days=365"
   ]
  },
  {
   "cell_type": "markdown",
   "metadata": {},
   "source": [
    "Use the `convert` function to change the variable `days` from an integer to a float, and assign it to a new variable `days_float`. "
   ]
  },
  {
   "cell_type": "code",
   "execution_count": 19,
   "metadata": {},
   "outputs": [
    {
     "data": {
      "text/plain": [
       "365.0"
      ]
     },
     "metadata": {},
     "output_type": "display_data"
    }
   ],
   "source": [
    "days_float = convert(Float64, days)"
   ]
  },
  {
   "cell_type": "markdown",
   "metadata": {},
   "source": [
    "Check whether the types of `days` and `days_float` are the same."
   ]
  },
  {
   "cell_type": "code",
   "execution_count": 20,
   "metadata": {},
   "outputs": [
    {
     "data": {
      "text/plain": [
       "false"
      ]
     },
     "metadata": {},
     "output_type": "display_data"
    }
   ],
   "source": [
    "typeof(days_float) == typeof(days)"
   ]
  },
  {
   "cell_type": "markdown",
   "metadata": {},
   "source": [
    "#### 1.3 Working with arrays and tuples\n",
    "\n",
    "Define the array \n",
    "\n",
    "`square = [1, 2, 3]` \n",
    "\n",
    "and the tuple\n",
    "\n",
    "`round = (4,5,6)`"
   ]
  },
  {
   "cell_type": "code",
   "execution_count": 21,
   "metadata": {},
   "outputs": [
    {
     "data": {
      "text/plain": [
       "(4, 5, 6)"
      ]
     },
     "metadata": {},
     "output_type": "display_data"
    }
   ],
   "source": [
    "square = [1, 2, 3]\n",
    "round = (4, 5, 6)"
   ]
  },
  {
   "cell_type": "markdown",
   "metadata": {},
   "source": [
    "Access the first element of the array and the tuple, and add them together. "
   ]
  },
  {
   "cell_type": "code",
   "execution_count": 24,
   "metadata": {},
   "outputs": [
    {
     "data": {
      "text/plain": [
       "5"
      ]
     },
     "metadata": {},
     "output_type": "display_data"
    }
   ],
   "source": [
    "square[1] + round[1]"
   ]
  },
  {
   "cell_type": "markdown",
   "metadata": {},
   "source": [
    "Change the first element of the array to be equal to the first element of the tuple."
   ]
  },
  {
   "cell_type": "code",
   "execution_count": 26,
   "metadata": {},
   "outputs": [
    {
     "data": {
      "text/plain": [
       "3-element Vector{Int64}:\n",
       " 4\n",
       " 2\n",
       " 3"
      ]
     },
     "metadata": {},
     "output_type": "display_data"
    }
   ],
   "source": [
    "square[1] = round[1]\n",
    "square"
   ]
  },
  {
   "cell_type": "markdown",
   "metadata": {},
   "source": [
    "Try to change the third element of the tuple to be equal to that of the array.\n",
    "\n",
    "Why will this not work?"
   ]
  },
  {
   "cell_type": "code",
   "execution_count": 28,
   "metadata": {},
   "outputs": [
    {
     "data": {
      "text/plain": [
       "6"
      ]
     },
     "metadata": {},
     "output_type": "display_data"
    }
   ],
   "source": [
    "square[3] = round[3]\n",
    "square[3]\n",
    "# This will not work, because tuples cannot be changed in Julia."
   ]
  },
  {
   "cell_type": "markdown",
   "metadata": {},
   "source": [
    "#### 1.4 Dictionaries\n",
    "\n",
    "Create a dictionary which lists three of your favorite restaurants and their ranking (1, 2 or 3)."
   ]
  },
  {
   "cell_type": "code",
   "execution_count": 9,
   "metadata": {},
   "outputs": [],
   "source": [
    "rest = Dict(\"Muramoto\" => 1, \"DumplingHaus\" => 2, \"TasteofSichuan\" => 3)"
   ]
  },
  {
   "cell_type": "markdown",
   "metadata": {},
   "source": [
    "#### 1.5 Matrix (two-dimension arrays)\n",
    "Create the following matrix: $$B = \\begin{bmatrix} 1 & 2 & 1 \\\\ 3 & 0 & 1 \\\\ 0 & 2 & 4 \\end{bmatrix}$$"
   ]
  },
  {
   "cell_type": "code",
   "execution_count": 29,
   "metadata": {},
   "outputs": [
    {
     "data": {
      "text/plain": [
       "3×3 Matrix{Int64}:\n",
       " 1  2  1\n",
       " 3  0  1\n",
       " 0  2  4"
      ]
     },
     "metadata": {},
     "output_type": "display_data"
    }
   ],
   "source": [
    "B = [1 2 1; 3 0 1; 0 2 4]"
   ]
  },
  {
   "cell_type": "markdown",
   "metadata": {},
   "source": [
    "Change the first element in the first row of B into 5, and check if it is an even number. (Tip: Use \"a%b == c\", which means the remainder of a/b is c)"
   ]
  },
  {
   "cell_type": "code",
   "execution_count": 33,
   "metadata": {},
   "outputs": [
    {
     "data": {
      "text/plain": [
       "false"
      ]
     },
     "metadata": {},
     "output_type": "display_data"
    }
   ],
   "source": [
    "B[1,1] = 5\n",
    "B[1,1] % 2 ==0"
   ]
  },
  {
   "cell_type": "markdown",
   "metadata": {},
   "source": [
    "#### 1.6 Some basic math\n",
    "\n",
    "\n",
    "Check if 5 is an even number. (Tip: Use the modulo operation \"a%b == c\", which means the remainder of a/b is c)"
   ]
  },
  {
   "cell_type": "code",
   "execution_count": 34,
   "metadata": {},
   "outputs": [
    {
     "data": {
      "text/plain": [
       "false"
      ]
     },
     "metadata": {},
     "output_type": "display_data"
    }
   ],
   "source": [
    "B[1,1] % 2 ==0"
   ]
  },
  {
   "cell_type": "markdown",
   "metadata": {},
   "source": [
    "#### 1.7 For loops"
   ]
  },
  {
   "cell_type": "markdown",
   "metadata": {},
   "source": [
    "Write a for loop to print the integers from 1 to 5."
   ]
  },
  {
   "cell_type": "code",
   "execution_count": 35,
   "metadata": {},
   "outputs": [
    {
     "name": "stdout",
     "output_type": "stream",
     "text": [
      "1\n",
      "2\n",
      "3\n",
      "4\n",
      "5\n"
     ]
    }
   ],
   "source": [
    "for i in 1:5\n",
    "    println(i)\n",
    "end"
   ]
  },
  {
   "cell_type": "markdown",
   "metadata": {},
   "source": [
    "Now write a for loop to go through every element in the above matrix, check if it is odd. If it is, then add 1 to that element. And print your matrix. "
   ]
  },
  {
   "cell_type": "code",
   "execution_count": 40,
   "metadata": {},
   "outputs": [
    {
     "data": {
      "text/plain": [
       "3×3 Matrix{Int64}:\n",
       " 6  2  2\n",
       " 4  0  2\n",
       " 0  2  4"
      ]
     },
     "metadata": {},
     "output_type": "display_data"
    }
   ],
   "source": [
    "for i in 1:size(B, 1)\n",
    "    for j in 1:size(B, 2)\n",
    "        if B[i,j] % 2 != 0\n",
    "            B[i,j] += 1\n",
    "        end\n",
    "    end\n",
    "end\n",
    "B"
   ]
  },
  {
   "cell_type": "markdown",
   "metadata": {},
   "source": [
    "#### 1.8 Functions\n",
    "Write a function called `my_func` which takes a number as an input, and return an array containing integers from 1 to $n$. And try your function with input 5."
   ]
  },
  {
   "cell_type": "code",
   "execution_count": 51,
   "metadata": {},
   "outputs": [
    {
     "data": {
      "text/plain": [
       "5-element Vector{Int64}:\n",
       " 1\n",
       " 2\n",
       " 3\n",
       " 4\n",
       " 5"
      ]
     },
     "metadata": {},
     "output_type": "display_data"
    }
   ],
   "source": [
    "function my_func(x)\n",
    "    return collect(1:x)\n",
    "end\n",
    "\n",
    "my_func(5)"
   ]
  },
  {
   "cell_type": "markdown",
   "metadata": {},
   "source": [
    "What happens to the output if you insted use the input 5.5 (which is a non-integer)?"
   ]
  },
  {
   "cell_type": "code",
   "execution_count": 52,
   "metadata": {},
   "outputs": [
    {
     "data": {
      "text/plain": [
       "5-element Vector{Float64}:\n",
       " 1.0\n",
       " 2.0\n",
       " 3.0\n",
       " 4.0\n",
       " 5.0"
      ]
     },
     "metadata": {},
     "output_type": "display_data"
    }
   ],
   "source": [
    "my_func(5.5)\n",
    "\n",
    "#= \n",
    "The difference between the output of my_func(5) and my_func(5.5) is ...\n",
    "\n",
    "=#"
   ]
  },
  {
   "cell_type": "markdown",
   "metadata": {},
   "source": [
    "Now slightly modify your function, and create a new function `odd` which outputs an array of all the odd numbers in [1,$n$]. Test your function with input 7."
   ]
  },
  {
   "cell_type": "code",
   "execution_count": 53,
   "metadata": {},
   "outputs": [
    {
     "data": {
      "text/plain": [
       "4-element Vector{Int64}:\n",
       " 1\n",
       " 3\n",
       " 5\n",
       " 7"
      ]
     },
     "metadata": {},
     "output_type": "display_data"
    }
   ],
   "source": [
    "function my_func(x)\n",
    "    return [i for i in 1:x if i % 2 != 0]\n",
    "end\n",
    "\n",
    "my_func(7)"
   ]
  },
  {
   "cell_type": "code",
   "execution_count": 18,
   "metadata": {},
   "outputs": [],
   "source": []
  },
  {
   "cell_type": "code",
   "execution_count": 19,
   "metadata": {},
   "outputs": [],
   "source": []
  }
 ],
 "metadata": {
  "kernelspec": {
   "display_name": "Julia 1.10.0",
   "language": "julia",
   "name": "julia-1.10"
  },
  "language_info": {
   "file_extension": ".jl",
   "mimetype": "application/julia",
   "name": "julia",
   "version": "1.10.0"
  }
 },
 "nbformat": 4,
 "nbformat_minor": 2
}
