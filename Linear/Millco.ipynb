{
 "cells": [
  {
   "cell_type": "markdown",
   "metadata": {},
   "source": [
    "# Lumber transportation problem (J. Reeb and S. Leavengood)\n",
    "\n",
    "Millco has three wood mills and is planning three new logging sites. Each mill has a maximum capacity and each logging site can harvest a certain number of truckloads of lumber per day. The cost of a haul is $\\$2$/mile of distance. If distances from logging sites to mills are given below, how should the hauls be routed to minimize hauling costs while meeting all demands?\n",
    "\n",
    "| Logging Site | Mill A | Mill B | Mill C | Max loads per day |\n",
    "|:------------:|:------:|:------:|:------:|:-----------------:|\n",
    "| 1            |  8     |  15    |  50    |  20               |\n",
    "| 2            |  10    |  17    |  20    |  30               |\n",
    "| 3            |  30    |  26    |  15    |  45               |\n",
    "| Mill demand  |  30    |  35    |  30    |                   |"
   ]
  },
  {
   "cell_type": "markdown",
   "metadata": {},
   "source": [
    "### Solution"
   ]
  },
  {
   "cell_type": "code",
   "execution_count": null,
   "metadata": {},
   "outputs": [],
   "source": [
    "# install NamesArrays if necessary\n",
    "using Pkg\n",
    "Pkg.add(\"NamedArrays\")\n"
   ]
  },
  {
   "cell_type": "code",
   "execution_count": null,
   "metadata": {},
   "outputs": [],
   "source": [
    "# this solution uses NamedArrays, which are arrays indexed over sets for both x and y dimensions.\n",
    "\n",
    "using JuMP, HiGHS, NamedArrays\n",
    "\n",
    "sites = [ 1,  2,  3]\n",
    "mills = [:A, :B, :C]\n",
    "\n",
    "cost_per_haul = 4    # don't forget the return trip!\n",
    "\n",
    "dist = NamedArray( [8 15 50; 10 17 20; 30 26 15], (sites,mills), (\"Sites\",\"Mills\") )\n",
    "supply = Dict(zip( sites, [20 30 45] ))\n",
    "demand = Dict(zip( mills, [30 35 30] ))\n",
    "\n",
    "m = Model(HiGHS.Optimizer)\n",
    "\n",
    "@variable(m, x[sites,mills] >= 0)          # x[i,j] is lumber shipped from site i to mill j.\n",
    "\n",
    "@constraint(m, sup[i in sites], sum(x[i,j] for j in mills) == supply[i] )   # supply constraint\n",
    "@constraint(m, dem[j in mills], sum(x[i,j] for i in sites) == demand[j] )   # demand constraint\n",
    "\n",
    "@objective(m, Min, cost_per_haul*sum( x[i,j]*dist[i,j] for i in sites, j in mills ) )      # minimize transportation cost\n",
    "\n",
    "optimize!(m)\n",
    "\n",
    "status=termination_status(m)\n",
    "println(status)\n",
    "\n",
    "# nicely formatted solution\n",
    "solution = NamedArray( Int[value(x[i,j]) for i in sites, j in mills], (sites,mills), (\"Sites\",\"Mills\") )\n",
    "println( solution )\n",
    "println()\n",
    "println(\"Total cost will be \\$\", objective_value(m))"
   ]
  },
  {
   "cell_type": "markdown",
   "metadata": {
    "collapsed": true
   },
   "source": [
    "### Compact version of the problem"
   ]
  },
  {
   "cell_type": "code",
   "execution_count": null,
   "metadata": {},
   "outputs": [],
   "source": [
    "using JuMP, HiGHS, LinearAlgebra\n",
    "\n",
    "m = Model(HiGHS.Optimizer)\n",
    "\n",
    "# incidence matrix:\n",
    "A = [ 1  1  1  0  0  0  0  0  0\n",
    "      0  0  0  1  1  1  0  0  0\n",
    "      0  0  0  0  0  0  1  1  1\n",
    "     -1  0  0 -1  0  0 -1  0  0\n",
    "      0 -1  0  0 -1  0  0 -1  0\n",
    "      0  0 -1  0  0 -1  0  0 -1 ]\n",
    "\n",
    "# supply and demand\n",
    "b = [ 20, 30, 45, -30, -35, -30 ]\n",
    "\n",
    "# distances\n",
    "c = [ 8, 15, 50, 10, 17, 20, 30, 26, 15, ]\n",
    "\n",
    "@variable(m, x[1:9] >= 0)\n",
    "@constraint(m, A*x .== b)\n",
    "@objective(m, Min, 4*dot(c,x))\n",
    "\n",
    "optimize!(m)\n",
    "xsol = value.(x)\n",
    "display( reshape(xsol,3,3)' )"
   ]
  },
  {
   "cell_type": "code",
   "execution_count": null,
   "metadata": {},
   "outputs": [],
   "source": []
  }
 ],
 "metadata": {
  "kernelspec": {
   "display_name": "Julia 1.8.5",
   "language": "julia",
   "name": "julia-1.8"
  },
  "language_info": {
   "file_extension": ".jl",
   "mimetype": "application/julia",
   "name": "julia",
   "version": "1.8.5"
  }
 },
 "nbformat": 4,
 "nbformat_minor": 1
}
