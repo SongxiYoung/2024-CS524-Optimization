{
 "cells": [
  {
   "cell_type": "markdown",
   "metadata": {},
   "source": [
    "# Lumber transportation problem (J. Reeb and S. Leavengood)\n",
    "\n",
    "Millco has three wood mills and is planning three new logging sites. Each mill has a maximum capacity and each logging site can harvest a certain number of truckloads of lumber per day. The cost of a haul is $\\$2$/mile of distance. If distances from logging sites to mills are given below, how should the hauls be routed to minimize hauling costs while meeting all demands?\n",
    "\n",
    "| Logging Site | Mill A | Mill B | Mill C | Max loads per day |\n",
    "|:------------:|:------:|:------:|:------:|:-----------------:|\n",
    "| 1            |  8     |  15    |  50    |  20               |\n",
    "| 2            |  10    |  17    |  20    |  30               |\n",
    "| 3            |  30    |  26    |  15    |  45               |\n",
    "| Mill demand  |  30    |  35    |  30    |                   |"
   ]
  },
  {
   "cell_type": "markdown",
   "metadata": {},
   "source": [
    "### Solution"
   ]
  },
  {
   "cell_type": "code",
   "execution_count": 1,
   "metadata": {},
   "outputs": [
    {
     "name": "stderr",
     "output_type": "stream",
     "text": [
      "\u001b[32m\u001b[1m    Updating\u001b[22m\u001b[39m registry at `~/.julia/registries/General.toml`\n"
     ]
    },
    {
     "name": "stderr",
     "output_type": "stream",
     "text": [
      "\u001b[32m\u001b[1m   Resolving\u001b[22m\u001b[39m package versions...\n"
     ]
    },
    {
     "name": "stderr",
     "output_type": "stream",
     "text": [
      "\u001b[32m\u001b[1m  No Changes\u001b[22m\u001b[39m to `~/.julia/environments/v1.10/Project.toml`\n",
      "\u001b[32m\u001b[1m  No Changes\u001b[22m\u001b[39m to `~/.julia/environments/v1.10/Manifest.toml`\n"
     ]
    }
   ],
   "source": [
    "# install NamesArrays if necessary\n",
    "using Pkg\n",
    "Pkg.add(\"NamedArrays\")\n"
   ]
  },
  {
   "cell_type": "code",
   "execution_count": 2,
   "metadata": {},
   "outputs": [
    {
     "name": "stdout",
     "output_type": "stream",
     "text": [
      "Running HiGHS 1.6.0: Copyright (c) 2023 HiGHS under MIT licence terms\n",
      "Presolving model\n",
      "6 rows, 9 cols, 18 nonzeros\n",
      "5 rows, 9 cols, 15 nonzeros\n",
      "Presolve : Reductions: rows 5(-1); columns 9(-0); elements 15(-3)\n",
      "Solving the presolved LP\n",
      "Using EKK dual simplex solver - serial\n",
      "  Iteration        Objective     Infeasibilities num(sum)\n",
      "          0     0.0000000000e+00 Pr: 5(155) 0s\n",
      "          5     5.7600000000e+03 Pr: 0(0) 0s\n",
      "Solving the original LP from the solution after postsolve\n",
      "Model   status      : Optimal\n",
      "Simplex   iterations: 5\n",
      "Objective value     :  5.7600000000e+03\n",
      "HiGHS run time      :          0.01\n",
      "OPTIMAL\n"
     ]
    },
    {
     "name": "stdout",
     "output_type": "stream",
     "text": [
      "[0 20 0; 30 0 0; 0 15 30]\n",
      "\n",
      "Total cost will be $"
     ]
    },
    {
     "name": "stdout",
     "output_type": "stream",
     "text": [
      "5760.0\n"
     ]
    }
   ],
   "source": [
    "# this solution uses NamedArrays, which are arrays indexed over sets for both x and y dimensions.\n",
    "\n",
    "using JuMP, HiGHS, NamedArrays\n",
    "\n",
    "sites = [ 1,  2,  3]\n",
    "mills = [:A, :B, :C]\n",
    "\n",
    "cost_per_haul = 4    # don't forget the return trip!\n",
    "\n",
    "dist = NamedArray( [8 15 50; 10 17 20; 30 26 15], (sites,mills), (\"Sites\",\"Mills\") )\n",
    "supply = Dict(zip( sites, [20 30 45] ))\n",
    "demand = Dict(zip( mills, [30 35 30] ))\n",
    "\n",
    "m = Model(HiGHS.Optimizer)\n",
    "\n",
    "@variable(m, x[sites,mills] >= 0)          # x[i,j] is lumber shipped from site i to mill j.\n",
    "\n",
    "@constraint(m, sup[i in sites], sum(x[i,j] for j in mills) == supply[i] )   # supply constraint\n",
    "@constraint(m, dem[j in mills], sum(x[i,j] for i in sites) == demand[j] )   # demand constraint\n",
    "\n",
    "@objective(m, Min, cost_per_haul*sum( x[i,j]*dist[i,j] for i in sites, j in mills ) )      # minimize transportation cost\n",
    "\n",
    "optimize!(m)\n",
    "\n",
    "status=termination_status(m)\n",
    "println(status)\n",
    "\n",
    "# nicely formatted solution\n",
    "solution = NamedArray( Int[value(x[i,j]) for i in sites, j in mills], (sites,mills), (\"Sites\",\"Mills\") )\n",
    "println( solution )\n",
    "println()\n",
    "println(\"Total cost will be \\$\", objective_value(m))"
   ]
  },
  {
   "cell_type": "markdown",
   "metadata": {
    "collapsed": true
   },
   "source": [
    "### Compact version of the problem"
   ]
  },
  {
   "cell_type": "code",
   "execution_count": 3,
   "metadata": {},
   "outputs": [
    {
     "data": {
      "text/plain": [
       "3×3 adjoint(::Matrix{Float64}) with eltype Float64:\n",
       " -0.0  20.0   0.0\n",
       " 30.0   0.0   0.0\n",
       "  0.0  15.0  30.0"
      ]
     },
     "metadata": {},
     "output_type": "display_data"
    },
    {
     "name": "stdout",
     "output_type": "stream",
     "text": [
      "Running HiGHS 1.6.0: Copyright (c) 2023 HiGHS under MIT licence terms\n",
      "Presolving model\n",
      "6 rows, 9 cols, 18 nonzeros\n",
      "5 rows, 9 cols, 15 nonzeros\n",
      "Presolve : Reductions: rows 5(-1); columns 9(-0); elements 15(-3)\n",
      "Solving the presolved LP\n",
      "Using EKK dual simplex solver - serial\n",
      "  Iteration        Objective     Infeasibilities num(sum)\n",
      "          0     0.0000000000e+00 Pr: 5(155) 0s\n",
      "          5     5.7600000000e+03 Pr: 0(0) 0s\n",
      "Solving the original LP from the solution after postsolve\n",
      "Model   status      : Optimal\n",
      "Simplex   iterations: 5\n",
      "Objective value     :  5.7600000000e+03\n",
      "HiGHS run time      :          0.00\n"
     ]
    }
   ],
   "source": [
    "using JuMP, HiGHS, LinearAlgebra\n",
    "\n",
    "m = Model(HiGHS.Optimizer)\n",
    "\n",
    "# incidence matrix:\n",
    "A = [ 1  1  1  0  0  0  0  0  0\n",
    "      0  0  0  1  1  1  0  0  0\n",
    "      0  0  0  0  0  0  1  1  1\n",
    "     -1  0  0 -1  0  0 -1  0  0\n",
    "      0 -1  0  0 -1  0  0 -1  0\n",
    "      0  0 -1  0  0 -1  0  0 -1 ]\n",
    "\n",
    "# supply and demand\n",
    "b = [ 20, 30, 45, -30, -35, -30 ]\n",
    "\n",
    "# distances\n",
    "c = [ 8, 15, 50, 10, 17, 20, 30, 26, 15, ]\n",
    "\n",
    "@variable(m, x[1:9] >= 0)\n",
    "@constraint(m, A*x .== b)  # dot\n",
    "@objective(m, Min, 4*dot(c,x))\n",
    "\n",
    "optimize!(m)\n",
    "xsol = value.(x)\n",
    "display( reshape(xsol,3,3)' )"
   ]
  },
  {
   "cell_type": "code",
   "execution_count": 4,
   "metadata": {},
   "outputs": [],
   "source": []
  }
 ],
 "metadata": {
  "kernelspec": {
   "display_name": "Julia 1.10.0",
   "language": "julia",
   "name": "julia-1.10"
  },
  "language_info": {
   "file_extension": ".jl",
   "mimetype": "application/julia",
   "name": "julia",
   "version": "1.10.0"
  }
 },
 "nbformat": 4,
 "nbformat_minor": 1
}
