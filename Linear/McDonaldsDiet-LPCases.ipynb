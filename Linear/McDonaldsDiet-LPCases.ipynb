{
 "cells": [
  {
   "attachments": {},
   "cell_type": "markdown",
   "metadata": {},
   "source": [
    "# McDonalds Diet Problem\n",
    "\n",
    "In this notebook, we will determine the minimum cost McDonalds diet"
   ]
  },
  {
   "cell_type": "code",
   "execution_count": 2,
   "metadata": {},
   "outputs": [],
   "source": [
    "foods = [:QP, :MD, :BM, :FF, :MC, :FR, :SM, :M1, :OJ]\n",
    "# Word to the wise---Julia symbols cannot start with a number (M1 instead of 1M. It took me a while to figure this out)\n",
    "\n",
    "nutrients = [:Prot, :VitA, :VitC, :Calc, :Iron, :Cals, :Carb]\n",
    "\n",
    "cost = Dict(zip(foods,[1.84,2.19,1.84,1.44,2.29,0.77,1.29,0.6,0.72]))\n",
    "required = Dict(zip(nutrients,[55,100,100,100,100,2000,350]))\n",
    "using NamedArrays\n",
    "A = [\n",
    "    28 24 25 14 31 3 15 9 1\n",
    "    15 15 6 2 8 0 4 10 2\n",
    "    6 10 2 0 15 15 0 4 120\n",
    "    30 20 25 15 15 0 20 30 2\n",
    "    20 20 20 10 8 2 15 0 2\n",
    "    510 370 500 370 400 220 345 110 80\n",
    "    34 33 42 38 42 26 27 12 20\n",
    "]\n",
    "A_NA = NamedArray(A, (nutrients,foods), (\"Nutrients\",\"Menu Items\")) ;\n",
    "\n",
    "\n",
    "\n"
   ]
  },
  {
   "cell_type": "code",
   "execution_count": 3,
   "metadata": {},
   "outputs": [],
   "source": [
    "burgers = [:QP, :MD, :BM] ;"
   ]
  },
  {
   "cell_type": "markdown",
   "metadata": {},
   "source": [
    "Suppose instead of minimizing cost, I wish to maximize the number of hamburgers I eat.  (I like hamburgers A LOT!)"
   ]
  },
  {
   "cell_type": "code",
   "execution_count": 4,
   "metadata": {},
   "outputs": [
    {
     "name": "stdout",
     "output_type": "stream",
     "text": [
      "Running HiGHS 1.6.0: Copyright (c) 2023 HiGHS under MIT licence terms\n",
      "Presolving model\n",
      "Solving the original LP with primal simplex to determine infeasible or unbounded\n",
      "Using EKK primal simplex solver\n",
      "  Iteration        Objective     Infeasibilities num(sum)\n",
      "          0    -4.1207498688e-08 Ph1: 7(1920); Du: 9(100.207) 0s\n",
      "          3     5.0000000000e+01 Pr: 0(0); Du: 1(0.5) 0s\n",
      "Using EKK primal simplex solver\n",
      "  Iteration        Objective     Infeasibilities num(sum)\n",
      "          3     5.0000006313e+01 Pr: 0(0); Du: 1(0.5) 0s\n",
      "          3     5.0000000000e+01 Pr: 0(0); Du: 1(0.5) 0s\n",
      "Model   status      : Unbounded\n",
      "Simplex   iterations: 3\n",
      "Objective value     :  5.0000000000e+01\n",
      "HiGHS run time      :          0.00\n",
      "Maximum Number Hamburgers 0"
     ]
    },
    {
     "name": "stdout",
     "output_type": "stream",
     "text": [
      ".50: \n",
      "Eat "
     ]
    },
    {
     "name": "stdout",
     "output_type": "stream",
     "text": [
      "0.50 of menu item :BM\n"
     ]
    }
   ],
   "source": [
    "using JuMP, HiGHS\n",
    "m = Model(HiGHS.Optimizer)\n",
    "@variable(m, x[foods] >= 0)\n",
    "@objective(m, Max, sum(x[j] for j in burgers))\n",
    "@constraint(m, [i in nutrients], sum(A_NA[i,j]*x[j] for j in foods) >= required[i])\n",
    "\n",
    "# If you don't want the solver output, you can make it slient like this\n",
    "#set_silent(m)\n",
    "optimize!(m)\n",
    "\n",
    "# You can use the Julia Formatting library for prettier printing, specifying precision, or you can use @printf like C\n",
    "using Formatting\n",
    "printfmtln(\"Maximum Number Hamburgers {:.2f}: \", objective_value(m))\n",
    "for j in foods\n",
    "    if value(x[j]) > 1.0e-6\n",
    "        printfmtln(\"Eat {1:.2f} of menu item {2}\", value(x[j]), j)\n",
    "    end\n",
    "end\n",
    "\n"
   ]
  },
  {
   "cell_type": "markdown",
   "metadata": {},
   "source": [
    "See that the Model status is Unbounded!\n",
    "In this case the \"solution\" returned is garbage.\n",
    "We need to make sure the Model Status is 'Optimal' in order to 'trust' the solution.\n",
    "See https://jump.dev/JuMP.jl/stable/manual/solutions/ for manual page"
   ]
  },
  {
   "cell_type": "code",
   "execution_count": 5,
   "metadata": {},
   "outputs": [
    {
     "name": "stdout",
     "output_type": "stream",
     "text": [
      "Solver did not find optimal solution, status: DUAL_INFEASIBLE\n"
     ]
    }
   ],
   "source": [
    "stat = termination_status(m)\n",
    "if stat != MOI.OPTIMAL\n",
    "    println(\"Solver did not find optimal solution, status: \", stat)\n",
    "end\n"
   ]
  },
  {
   "cell_type": "markdown",
   "metadata": {},
   "source": [
    "Here DUAL_INFEASIBLE status means that the LP instance was UNBOUNDED.\n",
    "(We will learn more about duality later in the class)"
   ]
  },
  {
   "cell_type": "markdown",
   "metadata": {},
   "source": [
    "In the interest of extended my life, my wife has requested that I obey the following constraints:\n",
    "\n",
    "1. Don't eat more than 3 sandwiches per day\n",
    "2. Don't drink too much  (Always very good advice).  At most 3 drinks per day.\n",
    "3. Don't eat more than 2 orders of french fries per day.\n"
   ]
  },
  {
   "cell_type": "code",
   "execution_count": 6,
   "metadata": {},
   "outputs": [
    {
     "name": "stdout",
     "output_type": "stream",
     "text": [
      "Running HiGHS 1.6.0: Copyright (c) 2023 HiGHS under MIT licence terms\n",
      "Presolving model\n",
      "9 rows, 9 cols, 66 nonzeros\n",
      "9 rows, 9 cols, 66 nonzeros\n",
      "Presolve : Reductions: rows 9(-1); columns 9(-0); elements 66(-1)\n",
      "Solving the presolved LP\n",
      "Using EKK dual simplex solver - serial\n",
      "  Iteration        Objective     Infeasibilities num(sum)\n",
      "          0     0.0000000000e+00 Pr: 7(1420) 0s\n",
      "          5     2.4751267377e+01 0s\n",
      "Model   status      : Infeasible\n",
      "Simplex   iterations: 5\n",
      "Objective value     :  2.4751250000e+01\n",
      "HiGHS run time      :          0.00\n",
      "ERROR:   No LP invertible representation for getDualRay\n",
      "Solver did not find optimal solution, status: INFEASIBLE\n"
     ]
    }
   ],
   "source": [
    "sammiches = [:QP, :MD, :BM, :FF, :MC, :SM]\n",
    "\n",
    "# Let's just make a new model for this\n",
    "m2 = Model(HiGHS.Optimizer)\n",
    "@variable(m2, x[foods] >= 0)\n",
    "@objective(m2, Min, sum(cost[j]*x[j] for j in foods))\n",
    "@constraint(m2, [i in nutrients], sum(A_NA[i,j]*x[j] for j in foods) >= required[i])\n",
    "# We can 'name' the constraints if we wish\n",
    "@constraint(m2, MaxSammich, sum(x[j] for j in sammiches) <= 3)\n",
    "@constraint(m2, MaxDrinks, x[:M1] + x[:OJ] <= 3)\n",
    "@constraint(m2, MaxFF, x[:FF] <= 2)\n",
    "optimize!(m2)\n",
    "\n",
    "stat = termination_status(m2)\n",
    "if stat != MOI.OPTIMAL\n",
    "    println(\"Solver did not find optimal solution, status: \", stat)\n",
    "end"
   ]
  },
  {
   "cell_type": "markdown",
   "metadata": {},
   "source": [
    "* Suppose I think that the ``too much drinking'' constraint is the one causing the problem to be infeasible\n",
    "\n",
    "* Let's create a new problem to determine if I had more than 3 drinks, the instance could be feasible \n",
    "\n",
    "* $s$:  Number of extra drinks (over three)\n",
    "that I must drink in order to get a feasible solution\n",
    "$$x_{1M} + x_{OJ} - s \\leq 3, s \\geq 0$$\n",
    "* New Objective: $\\min s$"
   ]
  },
  {
   "cell_type": "code",
   "execution_count": 7,
   "metadata": {},
   "outputs": [
    {
     "name": "stdout",
     "output_type": "stream",
     "text": [
      "Presolving model\n",
      "4 rows, 9 cols, 25 nonzeros\n",
      "4 rows, 9 cols, 25 nonzeros\n",
      "Presolve : Reductions: rows 4(-6); columns 9(-1); elements 25(-43)\n",
      "Solving the presolved LP\n",
      "Using EKK dual simplex solver - serial\n",
      "  Iteration        Objective     Infeasibilities num(sum)\n",
      "          0     0.0000000000e+00 Pr: 2(125) 0s\n",
      "          3     2.5000000000e+00 Pr: 0(0) 0s\n",
      "Solving the original LP from the solution after postsolve\n",
      "Model   status      : Optimal\n",
      "Simplex   iterations: 3\n",
      "Objective value     :  2.5000000000e+00\n",
      "HiGHS run time      :          0.00\n",
      "I have to drink 2.50 (extra) drinks\n",
      "5.50 milk, 0.00 OJ"
     ]
    }
   ],
   "source": [
    "using Printf\n",
    "# We can delete constraints from a model \n",
    "delete(m2,MaxDrinks)\n",
    "# Add a new variable\n",
    "@variable(m2, s >= 0)\n",
    "@constraint(m2, NewMaxDrinks, x[:M1] + x[:OJ] - s <= 3)\n",
    "# ! This will over-write the old objective in model m2\n",
    "@objective(m2, Min, s)\n",
    "\n",
    "optimize!(m2)\n",
    "stat = termination_status(m2)\n",
    "if stat != MOI.OPTIMAL\n",
    "    println(\"Solver did not find optimal solution, status: \", stat)\n",
    "else\n",
    "    @printf(\"I have to drink %.2f (extra) drinks\\n\", objective_value(m2))\n",
    "    @printf(\"%.2f milk, %.2f OJ\", value(x[:M1]), value(x[:OJ]))\n",
    "end"
   ]
  }
 ],
 "metadata": {
  "kernelspec": {
   "display_name": "Julia 1.10.0",
   "language": "julia",
   "name": "julia-1.10"
  },
  "language_info": {
   "file_extension": ".jl",
   "mimetype": "application/julia",
   "name": "julia",
   "version": "1.10.0"
  }
 },
 "nbformat": 4,
 "nbformat_minor": 2
}
