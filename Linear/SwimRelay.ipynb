{
 "cells": [
  {
   "cell_type": "markdown",
   "metadata": {},
   "source": [
    "# Swim relay problem (Van Roy and Mason)\n",
    "The coach of a swim team needs to assign swimmers to a 200-yard medley relay team to compete in a tournament. The problem is that his best swimmers are good in more than one stroke, so it's not clear which swimmer to assign to which stroke. Here are the best times for each swimmer:\n",
    "\n",
    "|Stroke       | Carl | Chris | David | Tony | Ken  |\n",
    "|-------------|:----:|:-----:|:-----:|:----:|:----:|\n",
    "|Backstroke   | 37.7 | 32.9  | 33.8  | 37.0 | 35.4 |\n",
    "|Breaststroke | 43.4 | 33.1  | 42.2  | 34.7 | 41.8 |\n",
    "|Butterfly    | 33.3 | 28.5  | 38.9  | 30.4 | 33.6 |\n",
    "|Freestyle    | 29.2 | 26.4  | 29.6  | 28.5 | 31.1 |\n"
   ]
  },
  {
   "cell_type": "markdown",
   "metadata": {},
   "source": [
    "### Solution"
   ]
  },
  {
   "cell_type": "code",
   "execution_count": 1,
   "metadata": {},
   "outputs": [
    {
     "name": "stdout",
     "output_type": "stream",
     "text": [
      "Running HiGHS 1.6.0: Copyright (c) 2023 HiGHS under MIT licence terms\n",
      "Presolving model\n",
      "9 rows, 20 cols, 40 nonzeros\n",
      "9 rows, 20 cols, 40 nonzeros\n",
      "Presolve : Reductions: rows 9(-0); columns 20(-0); elements 40(-0) - Not reduced\n",
      "Problem not reduced by presolve: solving the LP\n",
      "Using EKK dual simplex solver - serial\n",
      "  Iteration        Objective     Infeasibilities num(sum)\n",
      "          0     0.0000000000e+00 Pr: 4(4) 0s\n",
      "          8     1.2620000000e+02 Pr: 0(0) 0s\n",
      "Model   status      : Optimal\n",
      "Simplex   iterations: 8\n",
      "Objective value     :  1.2620000000e+02\n",
      "HiGHS run time      :          0.00\n"
     ]
    },
    {
     "data": {
      "text/plain": [
       "4×5 Named Matrix{Float64}\n",
       "stroke ╲ name │  Carl  Chris  David   Tony    Ken\n",
       "──────────────┼──────────────────────────────────\n",
       "backstroke    │   0.0    0.0    1.0    0.0    0.0\n",
       "breaststroke  │   0.0    0.0    0.0    1.0    0.0\n",
       "butterfly     │   0.0    1.0    0.0   -0.0    0.0\n",
       "freestyle     │   1.0   -0.0    0.0    0.0    0.0"
      ]
     },
     "metadata": {},
     "output_type": "display_data"
    }
   ],
   "source": [
    "using JuMP, HiGHS, NamedArrays\n",
    "\n",
    "# Types of strokes\n",
    "strokes = [ :backstroke, :breaststroke, :butterfly, :freestyle ]\n",
    "\n",
    "# Names of the swimmers\n",
    "names = [ :Carl, :Chris, :David, :Tony, :Ken ]\n",
    "\n",
    "# Time of each swimmer for each stroke\n",
    "raw = [ 37.7 32.9 33.8 37.0 35.4\n",
    "        43.4 33.1 42.2 34.7 41.8\n",
    "        33.3 28.5 38.9 30.4 33.6\n",
    "        29.2 26.4 29.6 28.5 31.1 ]\n",
    "\n",
    "times = NamedArray( raw, (strokes,names), (\"stroke\",\"name\"))\n",
    "\n",
    "m = Model(HiGHS.Optimizer)\n",
    "\n",
    "@variable(m, x[strokes,names] >= 0)\n",
    "\n",
    "# each swimmer swims at most one event\n",
    "@constraint(m, a[j in names], sum(x[i,j] for i in strokes) <= 1 )\n",
    "\n",
    "# each event has exactly one swimmer\n",
    "@constraint(m, b[i in strokes], sum(x[i,j] for j in names) == 1 )\n",
    "\n",
    "@objective(m, Min, sum( x[i,j]*times[i,j] for i in strokes, j in names ) )\n",
    "\n",
    "optimize!(m)\n",
    "\n",
    "assignment = NamedArray( [ (value.(x[i,j])) for i in strokes, j in names ], (strokes, names), (\"stroke\",\"name\"))"
   ]
  },
  {
   "cell_type": "code",
   "execution_count": 2,
   "metadata": {},
   "outputs": [],
   "source": []
  }
 ],
 "metadata": {
  "@webio": {
   "lastCommId": null,
   "lastKernelId": null
  },
  "kernelspec": {
   "display_name": "Julia 1.10.0",
   "language": "julia",
   "name": "julia-1.10"
  },
  "language_info": {
   "file_extension": ".jl",
   "mimetype": "application/julia",
   "name": "julia",
   "version": "1.10.0"
  }
 },
 "nbformat": 4,
 "nbformat_minor": 1
}
