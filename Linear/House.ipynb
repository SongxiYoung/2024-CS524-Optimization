{
 "cells": [
  {
   "cell_type": "markdown",
   "metadata": {},
   "source": [
    "# Building a house (Harvard Business Review, 1963)\n",
    "\n",
    "Several tasks must be completed in order to build our house. Each task has a duration, tasks may be worked on simultaneously, but there is also a precedence relation. Some tasks can only be started once other tasks have been completed. The following table shows each task, it's duration, and the tasks that must be completed before it starts. How fast can the house be built?\n",
    "![alt text](https://hbr.org/resources/images/article_assets/hbr/6309/63508_A.gif)"
   ]
  },
  {
   "cell_type": "markdown",
   "metadata": {
    "collapsed": true
   },
   "source": [
    "## Problem Data"
   ]
  },
  {
   "cell_type": "code",
   "execution_count": 6,
   "metadata": {},
   "outputs": [],
   "source": [
    "# this array stores the task names (:a, :b, ..., :x)\n",
    "tasks = []\n",
    "for i = 'a':'x'\n",
    "    push!(tasks, Symbol(i))    # string(sym) converts back to a string, i.e. string(:hello) returns \"hello\"\n",
    "end\n",
    "\n",
    "# this dictionary stores the project durations\n",
    "dur = [0, 4, 2, 4, 6, 1, 2, 3, 2, 4, 10, 3, 1, 2, 3, 2, 1, 1, 2, 3, 1, 2, 5, 0]\n",
    "duration = Dict(zip(tasks,dur))\n",
    "\n",
    "# this dictionary stores the projects that a given project depends on (ancestors)\n",
    "pre = ( [], [:a], [:b], [:c], [:d], [:c], [:f], [:f], [:d], [:d,:g], [:i,:j,:h], [:k],\n",
    "    [:l], [:l], [:l], [:e], [:p], [:c], [:o,:t], [:m,:n], [:t], [:q,:r], [:v], [:s,:u,:w])\n",
    "pred = Dict(zip(tasks,pre));"
   ]
  },
  {
   "cell_type": "code",
   "execution_count": 7,
   "metadata": {},
   "outputs": [
    {
     "data": {
      "text/plain": [
       "Dict{Any, Vector} with 24 entries:\n",
       "  :o => [:l]\n",
       "  :b => [:a]\n",
       "  :p => [:e]\n",
       "  :n => [:l]\n",
       "  :j => [:d, :g]\n",
       "  :e => [:d]\n",
       "  :c => [:b]\n",
       "  :h => [:f]\n",
       "  :l => [:k]\n",
       "  :w => [:v]\n",
       "  :x => [:s, :u, :w]\n",
       "  :d => [:c]\n",
       "  :k => [:i, :j, :h]\n",
       "  :s => [:o, :t]\n",
       "  :v => [:q, :r]\n",
       "  :g => [:f]\n",
       "  :u => [:t]\n",
       "  :q => [:p]\n",
       "  :r => [:c]\n",
       "  ⋮  => ⋮"
      ]
     },
     "metadata": {},
     "output_type": "display_data"
    }
   ],
   "source": [
    "pred"
   ]
  },
  {
   "cell_type": "markdown",
   "metadata": {},
   "source": [
    "## Mathematical Model\n",
    "\n",
    "Decision variables:  \n",
    "Start time of the task $t_i$ for all tasks $i \\in \\mathcal{T}$, where $\\mathcal{T}$ is the set of all tasks.\n",
    "Note that we define a finish task, which defines the last \"task\" and has duration 0.\n",
    "\n",
    "Constraints:  \n",
    "Each task can only start when the previous task is done,  \n",
    "$$t_i \\geq t_j + d_j\\quad \\forall j \\in  \\mathcal{P}_i \\quad \\forall i \\in\\mathcal{T}$$\n",
    "where $\\mathcal{P}_i$ is the set of all tasks that must be finished before task $i$ can start (i.e., predecessor tasks) and $d_j$ is the duration of task $j$.\n",
    "\n",
    "The first task will start at time 0, i.e.,\n",
    "$$t_a == 0$$\n",
    "\n",
    "Objective:  \n",
    "$$\\min_{t} t_x + d_x$$\n",
    "where $t_x$ and $d_x$ are the start time and duration of the finish task, respectively. \n"
   ]
  },
  {
   "cell_type": "markdown",
   "metadata": {},
   "source": [
    "## JuMP Implementation"
   ]
  },
  {
   "cell_type": "code",
   "execution_count": 8,
   "metadata": {},
   "outputs": [
    {
     "name": "stdout",
     "output_type": "stream",
     "text": [
      "Running HiGHS 1.6.0: Copyright (c) 2023 HiGHS under MIT licence terms\n",
      "Presolving model\n",
      "30 rows, 22 cols, 59 nonzeros\n",
      "0 rows, 0 cols, 0 nonzeros\n",
      "Presolve : Reductions: rows 0(-32); columns 0(-24); elements 0(-63) - Reduced to empty\n",
      "Solving the original LP from the solution after postsolve\n",
      "Model   status      : Optimal\n",
      "Objective value     :  3.4000000000e+01\n",
      "HiGHS run time      :          0.00\n",
      "1-dimensional DenseAxisArray{Float64,1,...} with index sets:\n",
      "    Dimension 1, Any[:a, :b, :c, :d, :e, :f, :g, :h, :i, :j  …  :o, :p, :q, :r, :s, :t, :u, :v, :w, :x]\n",
      "And data, a 24-element Vector{Float64}:\n",
      " -0.0\n",
      " -0.0\n",
      "  4.0\n",
      "  6.0\n",
      " 10.0\n",
      "  6.0\n",
      "  7.0\n",
      "  7.0\n",
      " 10.0\n",
      " 10.0\n",
      " 14.0\n",
      " 24.0\n",
      " 27.0\n",
      " 27.0\n",
      " 27.0\n",
      " 16.0\n",
      " 18.0\n",
      "  6.0\n",
      " 32.0\n",
      " 29.0\n",
      " 32.0\n",
      " 19.0\n",
      " 21.0\n",
      " 34.0\n",
      "minimum duration: 34.0\n"
     ]
    }
   ],
   "source": [
    "using JuMP, HiGHS\n",
    "m = Model(HiGHS.Optimizer)\n",
    "\n",
    "@variable(m, tstart[tasks])\n",
    "\n",
    "# one-line implementation of the constraints:\n",
    "# @constraint(m, link[i in tasks, j in pred[i]], tstart[i] >= tstart[j] + duration[j])\n",
    "\n",
    "for i in tasks\n",
    "    for j in pred[i]\n",
    "        @constraint(m, tstart[i] >= tstart[j] + duration[j])\n",
    "    end\n",
    "end\n",
    "@constraint(m, tstart[:a] == 0)\n",
    "@objective(m, Min, tstart[:x] + duration[:x])     # total duration is start time of last task + duration of last task.   In this case, we know that :x is the last task, but in general, we must write this constraint for every task (or at least every task at the end of a chain in the parital order defined by the precedence)\n",
    "\n",
    "optimize!(m)\n",
    "println(value.(tstart))\n",
    "println(\"minimum duration: \", objective_value(m))"
   ]
  },
  {
   "cell_type": "code",
   "execution_count": 9,
   "metadata": {},
   "outputs": [
    {
     "name": "stdout",
     "output_type": "stream",
     "text": [
      "task b predecessor a  slack is : 0.0 ***ACTIVE\n",
      "task c predecessor b  slack is : 0.0 ***ACTIVE\n",
      "task d predecessor c  slack is : 0.0 ***ACTIVE\n",
      "task e predecessor d  slack is : 0.0 ***ACTIVE\n",
      "task f predecessor c  slack is : 0.0 ***ACTIVE\n",
      "task g predecessor f  slack is : 0.0 ***ACTIVE\n",
      "task h predecessor f  slack is : 0.0 ***ACTIVE\n",
      "task i predecessor d  slack is : 0.0 ***ACTIVE\n",
      "task j predecessor d  slack is : 0.0 ***ACTIVE\n",
      "task j predecessor g  slack is : 1.0\n",
      "task k predecessor i  slack is : 2.0\n",
      "task k predecessor j  slack is : 0.0 ***ACTIVE\n",
      "task k predecessor h  slack is : 4.0\n",
      "task l predecessor k  slack is : 0.0 ***ACTIVE\n",
      "task m predecessor l  slack is : 0.0 ***ACTIVE\n",
      "task n predecessor l  slack is : 0.0 ***ACTIVE\n",
      "task o predecessor l  slack is : 0.0 ***ACTIVE\n",
      "task p predecessor e  slack is : 0.0 ***ACTIVE\n",
      "task q predecessor p  slack is : 0.0 ***ACTIVE\n",
      "task r predecessor c  slack is : 0.0 ***ACTIVE\n",
      "task s predecessor o  slack is : 2.0\n",
      "task s predecessor t  slack is : 0.0 ***ACTIVE\n",
      "task t predecessor m  slack is : 1.0\n",
      "task t predecessor n  slack is : 0.0 ***ACTIVE\n",
      "task u predecessor t  slack is : 0.0 ***ACTIVE\n",
      "task v predecessor q  slack is : 0.0 ***ACTIVE\n",
      "task v predecessor r  slack is : 12.0\n",
      "task w predecessor v  slack is : 0.0 ***ACTIVE\n",
      "task x predecessor s  slack is : 0.0 ***ACTIVE\n",
      "task x predecessor u  slack is : 1.0\n",
      "task x predecessor w  slack is : 8.0\n"
     ]
    }
   ],
   "source": [
    "for i in tasks\n",
    "    for j in pred[i]\n",
    "       slack = value(tstart[i]) - value(tstart[j]) - duration[j];\n",
    "        if (slack <= .00001)\n",
    "            println(\"task \", i, \" predecessor \",j, \"  slack is : \", slack,\" ***ACTIVE\")\n",
    "        else\n",
    "             println(\"task \", i, \" predecessor \",j, \"  slack is : \", slack)\n",
    "        end\n",
    "    end\n",
    "end"
   ]
  },
  {
   "cell_type": "code",
   "execution_count": 10,
   "metadata": {},
   "outputs": [],
   "source": []
  }
 ],
 "metadata": {
  "@webio": {
   "lastCommId": null,
   "lastKernelId": null
  },
  "kernelspec": {
   "display_name": "Julia 1.10.0",
   "language": "julia",
   "name": "julia-1.10"
  },
  "language_info": {
   "file_extension": ".jl",
   "mimetype": "application/julia",
   "name": "julia",
   "version": "1.10.0"
  }
 },
 "nbformat": 4,
 "nbformat_minor": 1
}
