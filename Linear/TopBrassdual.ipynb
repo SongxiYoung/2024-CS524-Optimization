{
 "cells": [
  {
   "cell_type": "markdown",
   "metadata": {},
   "source": [
    "# Top Brass Trophy problem (Ex. 5.1 in Rardin'98)\n",
    "\n",
    "Top Brass Trophy Company makes large championship trophies for youth athletic leagues. At the moment, they are planning production for fall sports: football and soccer. Each football trophy has a wood base, an engraved plaque, a large brass football on top, and returns $\\$ 12$ in profit. Soccer trophies are similar except that a brass soccer ball is on top, and the unit profit is only $\\$ 9$. Since the football has an asymmetric shape, its base requires 4 board feet of wood; the soccer base requires only 2 board feet. At the moment there are 1000 brass footballs in stock, 1500 soccer balls, 1750 plaques, and 4800 board feet of wood. What trophies should be produced from these supplies to maximize total profit assuming that all that are made can be sold?"
   ]
  },
  {
   "cell_type": "markdown",
   "metadata": {},
   "source": [
    "### Minimal solution"
   ]
  },
  {
   "cell_type": "code",
   "execution_count": 1,
   "metadata": {},
   "outputs": [
    {
     "data": {
      "text/plain": [
       "A JuMP Model\n",
       "Maximization problem with:\n",
       "Variables: 2\n",
       "Objective function type: AffExpr\n",
       "`AffExpr`-in-`MathOptInterface.LessThan{Float64}`: 4 constraints\n",
       "`VariableRef`-in-`MathOptInterface.GreaterThan{Float64}`: 2 constraints\n",
       "Model mode: AUTOMATIC\n",
       "CachingOptimizer state: ATTACHED_OPTIMIZER\n",
       "Solver name: HiGHS\n",
       "Names registered in the model: Cfballs, Cplaques, Csballs, Cwood, f, s"
      ]
     },
     "metadata": {},
     "output_type": "display_data"
    },
    {
     "name": "stdout",
     "output_type": "stream",
     "text": [
      "Running HiGHS 1.6.0: Copyright (c) 2023 HiGHS under MIT licence terms\n",
      "Presolving model\n",
      "2 rows, 2 cols, 4 nonzeros\n",
      "2 rows, 2 cols, 4 nonzeros\n",
      "Presolve : Reductions: rows 2(-2); columns 2(-0); elements 4(-2)\n",
      "Solving the presolved LP\n",
      "Using EKK dual simplex solver - serial\n",
      "  Iteration        Objective     Infeasibilities num(sum)\n",
      "          0     0.0000000000e+00 Ph1: 0(0) 0s\n",
      "          2    -1.7700000000e+04 Pr: 0(0) 0s\n",
      "Solving the original LP from the solution after postsolve\n",
      "Model   status      : Optimal\n",
      "Simplex   iterations: 2\n",
      "Objective value     :  1.7700000000e+04\n",
      "HiGHS run time      :          0.00\n",
      "OPTIMAL\n"
     ]
    },
    {
     "name": "stdout",
     "output_type": "stream",
     "text": [
      "Build 650.0 football trophies.\n",
      "Build 1100.0 soccer trophies.\n"
     ]
    },
    {
     "name": "stdout",
     "output_type": "stream",
     "text": [
      "Total profit will be $17700.0\n"
     ]
    }
   ],
   "source": [
    "using JuMP, HiGHS\n",
    "\n",
    "m = Model(HiGHS.Optimizer)\n",
    "@variable(m, f >= 0)                        # football trophies\n",
    "@variable(m, s >= 0)                        # soccer trophies\n",
    "@constraint(m, Cwood,   4f + 2s <= 4800)    # total board feet of wood\n",
    "@constraint(m, Cplaques,  f + s <= 1750)    # total number of plaques\n",
    "@constraint(m, Cfballs,       f <= 1000)    # total number of brass footballs\n",
    "@constraint(m, Csballs,       s <= 1500)    # total number of brass soccer balls\n",
    "@objective(m, Max, 12f + 9s)                # maximize profit\n",
    "\n",
    "optimize!(m)\n",
    "\n",
    "display(m)\n",
    "\n",
    "println(termination_status(m))\n",
    "println(\"Build \", value(f), \" football trophies.\")\n",
    "println(\"Build \", value(s), \" soccer trophies.\")\n",
    "println(\"Total profit will be \\$\", objective_value(m))"
   ]
  },
  {
   "cell_type": "markdown",
   "metadata": {},
   "source": [
    "### Dual variables\n",
    "\n",
    "JuMP's definition of duality is independent of the objective sense. That is, the sign of feasible duals associated with a constraint depends on the direction of the constraint and not whether the problem is maximization or minimization. This is a different convention from linear programming duality in some common textbooks. If you have a linear program, and you want the textbook definition, you probably want to use shadow_price and reduced_cost instead."
   ]
  },
  {
   "cell_type": "code",
   "execution_count": 2,
   "metadata": {},
   "outputs": [
    {
     "name": "stdout",
     "output_type": "stream",
     "text": [
      "Shadow price for wood: 1.5\n",
      "Shadow price for plaques: 6.0\n",
      "Shadow price for brass footballs: -0.0\n",
      "Shadow price for brass soccer balls: -0.0\n",
      "\n",
      "Dual variable for wood: -1.5\n",
      "Dual variable for plaques: -6.0\n",
      "Dual variable for brass footballs: 0.0\n",
      "Dual variable for brass soccer balls: 0.0\n"
     ]
    }
   ],
   "source": [
    "# Shadow price (change in objective from a change in the right hand side of the constraint)\n",
    "println(\"Shadow price for wood: \", shadow_price(Cwood))\n",
    "println(\"Shadow price for plaques: \", shadow_price(Cplaques))\n",
    "println(\"Shadow price for brass footballs: \", shadow_price(Cfballs))\n",
    "println(\"Shadow price for brass soccer balls: \", shadow_price(Csballs))\n",
    "\n",
    "println()\n",
    "\n",
    "# # Dual variables (as provided by the solver) \n",
    "println(\"Dual variable for wood: \", dual(Cwood))\n",
    "println(\"Dual variable for plaques: \", dual(Cplaques))\n",
    "println(\"Dual variable for brass footballs: \", dual(Cfballs))\n",
    "println(\"Dual variable for brass soccer balls: \", dual(Csballs))"
   ]
  },
  {
   "cell_type": "markdown",
   "metadata": {},
   "source": [
    "### Dual problem"
   ]
  },
  {
   "cell_type": "code",
   "execution_count": 3,
   "metadata": {},
   "outputs": [
    {
     "data": {
      "text/plain": [
       "A JuMP Model\n",
       "Minimization problem with:\n",
       "Variables: 4\n",
       "Objective function type: AffExpr\n",
       "`AffExpr`-in-`MathOptInterface.GreaterThan{Float64}`: 2 constraints\n",
       "`VariableRef`-in-`MathOptInterface.GreaterThan{Float64}`: 4 constraints\n",
       "Model mode: AUTOMATIC\n",
       "CachingOptimizer state: ATTACHED_OPTIMIZER\n",
       "Solver name: HiGHS\n",
       "Names registered in the model: λ"
      ]
     },
     "metadata": {},
     "output_type": "display_data"
    },
    {
     "name": "stdout",
     "output_type": "stream",
     "text": [
      "Running HiGHS 1.6.0: Copyright (c) 2023 HiGHS under MIT licence terms\n",
      "Presolving model\n",
      "2 rows, 4 cols, 6 nonzeros\n",
      "2 rows, 4 cols, 6 nonzeros\n",
      "Presolve : Reductions: rows 2(-0); columns 4(-0); elements 6(-0) - Not reduced\n",
      "Problem not reduced by presolve: solving the LP\n",
      "Using EKK dual simplex solver - serial\n",
      "  Iteration        Objective     Infeasibilities num(sum)\n",
      "          0     0.0000000000e+00 Pr: 2(21) 0s\n",
      "          3     1.7700000000e+04 Pr: 0(0) 0s\n",
      "Model   status      : Optimal\n",
      "Simplex   iterations: 3\n",
      "Objective value     :  1.7700000000e+04\n",
      "HiGHS run time      :          0.00\n",
      "OPTIMAL\n",
      "dual variables are: "
     ]
    },
    {
     "name": "stdout",
     "output_type": "stream",
     "text": [
      "[1.5, 6.0, 0.0, 0.0]\n",
      "Optimal objective is: 17700.0\n"
     ]
    }
   ],
   "source": [
    "using JuMP, HiGHS\n",
    "\n",
    "m_dual = Model(HiGHS.Optimizer)\n",
    "@variable(m_dual, λ[1:4] >= 0)\n",
    "@constraint(m_dual, 4λ[1] + λ[2] + λ[3] >= 12)\n",
    "@constraint(m_dual, 2λ[1] + λ[2] + λ[4] >= 9)\n",
    "@objective(m_dual, Min, 4800λ[1] + 1750λ[2] + 1000λ[3] + 1500λ[4])\n",
    "\n",
    "optimize!(m_dual)\n",
    "\n",
    "display(m_dual)\n",
    "\n",
    "println(termination_status(m_dual))\n",
    "println(\"dual variables are: \", value.(λ))\n",
    "println(\"Optimal objective is: \", objective_value(m))\n",
    "\n"
   ]
  },
  {
   "cell_type": "code",
   "execution_count": 4,
   "metadata": {},
   "outputs": [],
   "source": []
  }
 ],
 "metadata": {
  "kernelspec": {
   "display_name": "Julia 1.10.0",
   "language": "julia",
   "name": "julia-1.10"
  },
  "language_info": {
   "file_extension": ".jl",
   "mimetype": "application/julia",
   "name": "julia",
   "version": "1.10.0"
  }
 },
 "nbformat": 4,
 "nbformat_minor": 1
}
