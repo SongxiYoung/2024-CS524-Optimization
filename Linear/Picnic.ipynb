{
 "cells": [
  {
   "cell_type": "markdown",
   "metadata": {},
   "source": [
    "# Let's have a picnic\n",
    "\n",
    "* The Hatfields, Montagues, McCoys and Capulets are going on their annual family picnic.  \n",
    "* Four cars are available to transport the families to the picnic.  \n",
    "* The cars can carry the following numbers of people: car 1, 4; car 2, 3; car 3, 3; car 4, 4.\n",
    "* There are four people in each family, and no car can carry more than two people from any one family. \n",
    "* Determine the maximum number of people that can be transported to the picnic."
   ]
  },
  {
   "cell_type": "code",
   "execution_count": 1,
   "metadata": {},
   "outputs": [
    {
     "data": {
      "text/plain": [
       "Inf"
      ]
     },
     "metadata": {},
     "output_type": "display_data"
    }
   ],
   "source": [
    "# Make the network \n",
    "#  Here I use julia Sets and union operator\n",
    "s = Set([Symbol(\"source\")])\n",
    "t = Set([Symbol(\"sink\")])\n",
    "families = Set([:Hatfield, :Montague, :McCoy, :Capulet])\n",
    "cars = Set(Symbol(\"car\" * string(i)) for i in 1:4)\n",
    "N = Set{Symbol}()\n",
    "N = union(s, t, families, cars)\n",
    "A = Set{Tuple}()\n",
    "A = union(\n",
    "    Set([(i,j) for i in s for j in families]), \n",
    "    Set([(i,j) for i in families for j in cars]),\n",
    "    Set([(i,j) for i in cars, j in t]),\n",
    "    Set([(i,j) for i in t for j in s])\n",
    ")\n",
    "# Important to note that the set A is a set of tuples, and we must into A appropriately in Julia.  This is a different way instead of doing NamedArray\n",
    "\n",
    "# Put the data for the MCNF \n",
    "# Cost just has a '-1' on the (sink,source) arc (if minimizing)\n",
    "c = Dict((i,j) => 0 for (i,j) in A)\n",
    "c[:sink,:source] = -1.0\n",
    "\n",
    "# Max flow.  All net supplies are 0\n",
    "b = Dict(i => 0 for i in N)\n",
    "\n",
    "# Upper bounds\n",
    "u = Dict{Tuple, Float32}()\n",
    "for i in s\n",
    "    for j in families\n",
    "        u[(i,j)] = 4\n",
    "    end\n",
    "end \n",
    "for i in families\n",
    "    for j in cars\n",
    "        u[(i,j)] = 2\n",
    "    end\n",
    "end \n",
    "u[(:car1,:sink)] = 4\n",
    "u[(:car2,:sink)] = 3\n",
    "u[(:car3,:sink)] = 3\n",
    "u[(:car4,:sink)] = 4\n",
    "u[(:sink,:source)] = Inf\n",
    "\n"
   ]
  },
  {
   "cell_type": "code",
   "execution_count": 2,
   "metadata": {},
   "outputs": [
    {
     "name": "stdout",
     "output_type": "stream",
     "text": [
      "Running HiGHS 1.6.0: Copyright (c) 2023 HiGHS under MIT licence terms\n",
      "Presolving model\n",
      "10 rows, 25 cols, 50 nonzeros\n",
      "8 rows, 24 cols, 43 nonzeros\n",
      "Presolve : Reductions: rows 8(-2); columns 24(-1); elements 43(-7)\n",
      "Solving the presolved LP\n",
      "Using EKK dual simplex solver - serial\n",
      "  Iteration        Objective     Infeasibilities num(sum)\n",
      "          0     0.0000000000e+00 Ph1: 0(0) 0s\n",
      "         13    -1.4000000000e+01 Pr: 0(0) 0s\n",
      "Solving the original LP from the solution after postsolve\n",
      "Model   status      : Optimal\n",
      "Simplex   iterations: 13\n",
      "Objective value     : -1.4000000000e+01\n",
      "HiGHS run time      :          0.00\n",
      "Able to transport 14.0 people\n"
     ]
    }
   ],
   "source": [
    "# Now we can just do MCNF max flow Model\n",
    "using JuMP, HiGHS\n",
    "\n",
    "m = Model(HiGHS.Optimizer)\n",
    "@variable(m, 0 <= x[a in A] <= u[a])\n",
    "@objective(m, Min, sum(c[a]*x[a] for a in A))\n",
    "@constraint(m, flow_balance[i in N], sum(x[(i,j)] for j in N if (i,j) in A) - sum(x[(j,i)] for j in N if (j,i) in A)== b[i])\n",
    "#set_silent(m)\n",
    "optimize!(m)\n",
    "\n",
    "using Printf\n",
    "@printf(\"Able to transport %.1f people\\n\", -objective_value(m))\n",
    "\n"
   ]
  }
 ],
 "metadata": {
  "kernelspec": {
   "display_name": "Julia 1.10.0",
   "language": "julia",
   "name": "julia-1.10"
  },
  "language_info": {
   "file_extension": ".jl",
   "mimetype": "application/julia",
   "name": "julia",
   "version": "1.10.0"
  }
 },
 "nbformat": 4,
 "nbformat_minor": 2
}
