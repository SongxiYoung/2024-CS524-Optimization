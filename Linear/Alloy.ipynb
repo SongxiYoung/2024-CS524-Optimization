{
 "cells": [
  {
   "cell_type": "markdown",
   "metadata": {},
   "source": [
    "# Alloy blending problem\n",
    "\n",
    "The company Steelco has received an order for 500 tonnes of steel to be used in shipbuilding.  The steel must have the following charactersitics:\n",
    "\n",
    "| Chemical Element | Minimum Grade | Maximum Grade |\n",
    "|------------------|---------------|---------------|\n",
    "| Carbon (C)       | 2             | 3             |\n",
    "| Copper (Cu)      | 0.4           | 0.6           |\n",
    "| Manganese (Mn)   | 1.2           | 1.65          |\n",
    "\n",
    "The company has seven different raw materials in stock that may be used for the production of this steel. The following table lists the grades, available amounts and prices for all materials:\n",
    "\n",
    "| Raw Material | C%     | Cu%    | Mn%    | Availability in t | Cost in $/t  |\n",
    "|--------------|--------|--------|--------|-------------------|--------------|\n",
    "| Iron1        | 2.5    | 0      | 1.3    | 400               | 200          |\n",
    "| Iron2        | 3      | 0      | 0.8    | 300               | 250          |\n",
    "| Iron3        | 0      | 0.3    | 0      | 600               | 150          |\n",
    "| Cu1          | 0      | 90     | 0      | 500               | 220          |\n",
    "| Cu2          | 0      | 96     | 4      | 200               | 240          |\n",
    "| Al1          | 0      | 0.4    | 1.2    | 300               | 200          |\n",
    "| Al2          | 0      | 0.6    | 0      | 250               | 165          |\n",
    "\n",
    "The objective is to determine the composition of the steel that minimizes the production cost."
   ]
  },
  {
   "cell_type": "markdown",
   "metadata": {},
   "source": [
    "#### Problem data"
   ]
  },
  {
   "cell_type": "code",
   "execution_count": 1,
   "metadata": {},
   "outputs": [],
   "source": [
    "using NamedArrays\n",
    "\n",
    "raw = [:iron1, :iron2, :iron3, :cu1, :cu2, :al1, :al2]\n",
    "\n",
    "elements = [:C, :Cu, :Mn]\n",
    "\n",
    "composition = [\n",
    "    2.5 0 1.3\n",
    "    3 0 0.8\n",
    "    0 0.3 0\n",
    "    0 90 0\n",
    "    0 96 4\n",
    "    0 0.4 1.2\n",
    "    0 0.6 0\n",
    "]\n",
    "\n",
    "α = NamedArray(composition, (raw, elements), (\"Raw Material\", \"Element\"))\n",
    "\n",
    "# composition (in percent) of [C, Cu, Mn]\n",
    "\n",
    "# availability in tonnes\n",
    "availability = Dict(\n",
    ":iron1 => 400,\n",
    ":iron2 => 300,\n",
    ":iron3 => 600,\n",
    ":cu1 => 500,\n",
    ":cu2 => 200,\n",
    ":al1 => 300,\n",
    ":al2 => 250)\n",
    "\n",
    "# You can also do it using the fancy Dict(zip()) syntax\n",
    "\n",
    "cost = Dict(zip(raw,[200,250,150,220,240,200,165]))\n",
    "\n",
    "# minimum and maximum grade of [C, Cu, Mn]\n",
    "MinGrade = Dict(zip(elements,[2, 0.4, 1.2]))\n",
    "MaxGrade = Dict(zip(elements,[3, 0.6, 1.65]))\n",
    "\n",
    "d = 500\n",
    ";"
   ]
  },
  {
   "cell_type": "markdown",
   "metadata": {},
   "source": [
    "#### Solution"
   ]
  },
  {
   "cell_type": "code",
   "execution_count": 2,
   "metadata": {},
   "outputs": [
    {
     "name": "stdout",
     "output_type": "stream",
     "text": [
      "Running HiGHS 1.6.0: Copyright (c) 2023 HiGHS under MIT licence terms\n",
      "Presolving model\n",
      "7 rows, 7 cols, 45 nonzeros\n",
      "4 rows, 7 cols, 26 nonzeros\n",
      "4 rows, 7 cols, 26 nonzeros\n",
      "Presolve : Reductions: rows 4(-10); columns 7(-0); elements 26(-26)\n",
      "Solving the presolved LP\n",
      "Using EKK dual simplex solver - serial\n",
      "  Iteration        Objective     Infeasibilities num(sum)\n",
      "          0     0.0000000000e+00 Pr: 1(1000) 0s\n",
      "          3     9.8202027263e+04 Pr: 0(0) 0s\n",
      "Solving the original LP from the solution after postsolve\n",
      "Model   status      : Optimal\n",
      "Simplex   iterations: 3\n",
      "Objective value     :  9.8202027263e+04\n",
      "HiGHS run time      :          0.01\n",
      "1-dimensional DenseAxisArray{Float64,1,...} with index sets:\n",
      "    Dimension 1, [:iron1, :iron2, :iron3, :cu1, :cu2, :al1, :al2]\n",
      "And data, a 7-element Vector{Float64}:\n",
      " "
     ]
    },
    {
     "name": "stdout",
     "output_type": "stream",
     "text": [
      "400.0\n",
      "   0.0\n",
      "  37.329605033205205\n",
      "   0.0\n",
      "   1.712687871373646\n",
      "  60.95770709542115\n",
      "   0.0\n",
      "The cost will be $"
     ]
    },
    {
     "name": "stdout",
     "output_type": "stream",
     "text": [
      "98202.02726319469\n"
     ]
    }
   ],
   "source": [
    "using JuMP, HiGHS\n",
    "\n",
    "m = Model()\n",
    "set_optimizer(m,HiGHS.Optimizer)\n",
    "\n",
    "@variable(m, x[raw] >= 0)   # amount of each raw material to use (in tonnes)\n",
    "@objective(m, Min, sum(cost[i]*x[i] for i in raw))\n",
    "\n",
    "@expression(m, production, sum(x[i] for i in raw))\n",
    "@constraint(m, avail[i in raw], x[i] <= availability[i])\n",
    "@constraint(m, min_grade[e in elements], sum( α[r,e]*x[r] for r in raw) >= MinGrade[e]*production)\n",
    "@constraint(m, max_grade[e in elements], sum( α[r,e]*x[r] for r in raw) <= MinGrade[e]*production)\n",
    "\n",
    "@constraint(m, production >= d)\n",
    "\n",
    "\n",
    "optimize!(m)\n",
    "println(value.(x))\n",
    "println(\"The cost will be \\$\", objective_value(m))"
   ]
  }
 ],
 "metadata": {
  "kernelspec": {
   "display_name": "Julia 1.10.0",
   "language": "julia",
   "name": "julia-1.10"
  },
  "language_info": {
   "file_extension": ".jl",
   "mimetype": "application/julia",
   "name": "julia",
   "version": "1.10.0"
  }
 },
 "nbformat": 4,
 "nbformat_minor": 1
}
