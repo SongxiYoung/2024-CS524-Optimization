{
 "cells": [
  {
   "cell_type": "markdown",
   "metadata": {},
   "source": [
    "# Sailco problem\n",
    "Sailco manufactures sailboats. During the next 4 months the company must\n",
    "meet the following demands for their sailboats:\n",
    "\n",
    "|Month | 1 | 2 | 3 | 4 |\n",
    "|------|---|---|---|---|\n",
    "|Number of boats | 40 | 60 | 70 | 25 |\n",
    "\n",
    "At the beginning of Month 1, Sailco has 10 boats in inventory. Each month\n",
    "it must determine how many boats to produce. During any month, Sailco can\n",
    "produce up to 40 boats with regular labor and an unlimited number of boats\n",
    "with overtime labor. Boats produced with regular labor cost $\\$400$ each to\n",
    "produce, while boats produced with overtime labor cost $\\$450$ each. It costs $\\$20$ to hold a boat in inventory from one month to the next. Find the\n",
    "production and inventory schedule that minimizes the cost of meeting the\n",
    "next 4 months' demands."
   ]
  },
  {
   "cell_type": "markdown",
   "metadata": {},
   "source": [
    "### Solution"
   ]
  },
  {
   "cell_type": "code",
   "execution_count": 1,
   "metadata": {},
   "outputs": [
    {
     "name": "stdout",
     "output_type": "stream",
     "text": [
      "Running HiGHS 1.6.0: Copyright (c) 2023 HiGHS under MIT licence terms\n",
      "Presolving model\n",
      "4 rows, 12 cols, 15 nonzeros\n",
      "4 rows, 12 cols, 15 nonzeros\n",
      "Presolve : Reductions: rows 4(-1); columns 12(-1); elements 15(-2)\n",
      "Solving the presolved LP\n",
      "Using EKK dual simplex solver - serial\n",
      "  Iteration        Objective     Infeasibilities num(sum)\n",
      "          0     2.0000000000e+02 Pr: 4(185) 0s\n",
      "          5     7.6400000000e+04 Pr: 0(0) 0s\n",
      "Solving the original LP from the solution after postsolve\n",
      "Model   status      : Optimal\n",
      "Simplex   iterations: 5\n",
      "Objective value     :  7.6400000000e+04\n",
      "HiGHS run time      :          0.00\n",
      "Solver terminated with status OPTIMAL\n",
      "Build "
     ]
    },
    {
     "name": "stdout",
     "output_type": "stream",
     "text": [
      "[40 40 40 25] using regular labor\n",
      "Build [0 10 30 0] using overtime labor\n",
      "Inventory: [10 10 0 0 0]\n"
     ]
    },
    {
     "name": "stdout",
     "output_type": "stream",
     "text": [
      "Optimal Cost: 76400.0\n",
      "\n"
     ]
    }
   ],
   "source": [
    "using JuMP, HiGHS\n",
    "\n",
    "d = [40 60 70 25]                   # monthly demand for boats\n",
    "\n",
    "m = Model(HiGHS.Optimizer)\n",
    "\n",
    "@variable(m, 0 <= x[1:4] <= 40)       # boats produced with regular labor\n",
    "@variable(m, y[1:4] >= 0)             # boats produced with overtime labor\n",
    "@variable(m, h[1:5] >= 0)             # boats held in inventory\n",
    "@constraint(m, h[1] == 10)\n",
    "@constraint(m, flow[i in 1:4], h[i]+x[i]+y[i]==d[i]+h[i+1])     # conservation of boats\n",
    "@objective(m, Min, 400*sum(x) + 450*sum(y) + 20*sum(h))         # minimize costs\n",
    "\n",
    "optimize!(m)\n",
    "\n",
    "println(\"Solver terminated with status \", termination_status(m))\n",
    "println(\"Build \", Array{Int}(value.(x')), \" using regular labor\")\n",
    "println(\"Build \", Array{Int}(value.(y')), \" using overtime labor\")\n",
    "println(\"Inventory: \", Array{Int}(value.(h')))\n",
    "println(\"Optimal Cost: \", objective_value(m))\n",
    "println()\n"
   ]
  },
  {
   "cell_type": "code",
   "execution_count": null,
   "metadata": {},
   "outputs": [],
   "source": []
  }
 ],
 "metadata": {
  "kernelspec": {
   "display_name": "Julia 1.10.0",
   "language": "julia",
   "name": "julia-1.10"
  },
  "language_info": {
   "file_extension": ".jl",
   "mimetype": "application/julia",
   "name": "julia",
   "version": "1.10.0"
  }
 },
 "nbformat": 4,
 "nbformat_minor": 1
}
