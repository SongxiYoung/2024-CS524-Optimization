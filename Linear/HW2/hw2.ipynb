{
 "cells": [
  {
   "cell_type": "markdown",
   "metadata": {},
   "source": [
    "### ISyE524: Intro to Optimization\n",
    "#### Problem Set #2"
   ]
  },
  {
   "cell_type": "markdown",
   "metadata": {},
   "source": [
    "##### 1. Snitches’R’Us\n",
    "###### 1-1\n",
    "\n",
    "**Decision Variables:**\n",
    "\n",
    "• $P_{t}$: Number of snitches to produce during period t\n",
    "\n",
    "• $Inc_{t}$: The increase in production rates between periods t−1 and t\n",
    "\n",
    "• $Dec_{t}$: The decrease in production rates between periods t−1 and t\n",
    "\n",
    "• $I_{t}$: Total inventory level at end of period t\n",
    "\n",
    "• $S_{t}$: Number of snitches (up to 8000) at the end of period t\n",
    "\n",
    "• $Sover_{t}$: Number of snitches (over 8000) at the end of period t\n",
    "\n",
    "**Objective & Constraints:**\n",
    "\n",
    "\\begin{align*}\n",
    "\\text{Minimize} \\quad & \\sum_{t \\in T} (0.10 \\times P_{t} + 1.50 \\times Inc_{t} + 1.00 \\times Dec_{t} + 0.20 \\times S_{t} + 0.50 \\times Sover_{t} ) \\\\\n",
    "\\text{Subject to:} \\quad & P_{t} + I_{t-1} = D_{t} + I_{t} \\quad \\forall t \\in T \\\\\n",
    "& I_{t} = S_{t} + Sover_{t} \\quad \\forall t \\in T \\\\\n",
    "& P_{t} - P_{t-1} = Inc_{t} - Dec_{t} \\quad \\forall t \\in T \\\\\n",
    "& 0 \\leq S_{t} \\leq 8000 \\quad \\forall t \\in T \\\\\n",
    "& Sover_{t} \\geq 0 \\quad \\forall t \\in T \\\\\n",
    "& P_{t}, Inc_{t}, Dec_{t}, I_{t} \\geq 0 \\quad \\forall t \\in T \n",
    "\\end{align*}"
   ]
  },
  {
   "cell_type": "markdown",
   "metadata": {},
   "source": [
    "###### 1-2"
   ]
  },
  {
   "cell_type": "code",
   "execution_count": 25,
   "metadata": {},
   "outputs": [
    {
     "data": {
      "text/plain": [
       "6-element Vector{ConstraintRef{Model, MathOptInterface.ConstraintIndex{MathOptInterface.ScalarAffineFunction{Float64}, MathOptInterface.Interval{Float64}}, ScalarShape}}:\n",
       " S[1] ∈ [0, 8000]\n",
       " S[2] ∈ [0, 8000]\n",
       " S[3] ∈ [0, 8000]\n",
       " S[4] ∈ [0, 8000]\n",
       " S[5] ∈ [0, 8000]\n",
       " S[6] ∈ [0, 8000]"
      ]
     },
     "metadata": {},
     "output_type": "display_data"
    }
   ],
   "source": [
    "using JuMP, HiGHS\n",
    "\n",
    "# Model\n",
    "model = Model(HiGHS.Optimizer)\n",
    "\n",
    "# Time periods\n",
    "demand = [4000, 8000, 20000, 12000, 6000, 2000]\n",
    "\n",
    "# Decision variables\n",
    "@variable(model, P[1:6] >= 0)  # Production\n",
    "@variable(model, S[1:6] >= 0)  # Storage up to 8000\n",
    "@variable(model, S_over[1:6] >= 0)  # Storage above 8000\n",
    "@variable(model, Inc[1:6] >= 0)  # Increase in production\n",
    "@variable(model, Dec[1:6] >= 0)  # Decrease in production\n",
    "@variable(model, I[1:6] >= 0)  # Inventory\n",
    "\n",
    "# Objective function\n",
    "@objective(model, Min, sum(0.1 * P[m] + 1.5 * Inc[m] + 1.0 * Dec[m] + 0.2 * S[m] + 0.5 * S_over[m] for m in 1:6))\n",
    "\n",
    "# Constraints\n",
    "\n",
    "# INVENTORY BALANCE #\n",
    "# amount we start with + amount we produce = amount we sell + amount that carries to next month\n",
    "\n",
    "# balance inventory in the first month \n",
    "# @constraint(m, inv_bal_init, 500 + x[1] == d[1] + i[1])\n",
    "@constraint(model, 2000 + P[1] == demand[1] + I[1])\n",
    "# balance inventory for all months after the first\n",
    "# @constraint(m, inv_bal[t in 2:4], i[t-1] + x[t] == d[t] + i[t])\n",
    "@constraint(model, [m in  2:6], I[m-1] + P[m] == demand[m] + I[m])\n",
    "\n",
    "# PEODUCTION BALANCE #\n",
    "# difference of amount = amount we increase + amount we decrease\n",
    "@constraint(model, P[1] - 4000 == Inc[1] - Dec[1])\n",
    "@constraint(model, [m in 2:6], P[m] - P[m-1] == Inc[m] - Dec[m])\n",
    "\n",
    "@constraint(model, [m in 1:6], I[m] == S[m] + S_over[m])\n",
    "@constraint(model, [m in 1:6], 0 <= S[m] <= 8000)\n"
   ]
  },
  {
   "cell_type": "code",
   "execution_count": 26,
   "metadata": {},
   "outputs": [
    {
     "name": "stdout",
     "output_type": "stream",
     "text": [
      "Running HiGHS 1.6.0: Copyright (c) 2023 HiGHS under MIT licence terms\n",
      "Presolving model\n",
      "17 rows, 35 cols, 56 nonzeros\n",
      "11 rows, 29 cols, 52 nonzeros\n",
      "11 rows, 29 cols, 52 nonzeros\n",
      "Presolve : Reductions: rows 11(-13); columns 29(-7); elements 52(-12)\n",
      "Solving the presolved LP\n",
      "Using EKK dual simplex solver - serial\n",
      "  Iteration        Objective     Infeasibilities num(sum)\n",
      "          0     2.0000000000e+02 Pr: 7(72000) 0s\n",
      "         13     2.5266666667e+04 Pr: 0(0) 0s\n",
      "Solving the original LP from the solution after postsolve\n",
      "Model   status      : Optimal\n",
      "Simplex   iterations: 13\n",
      "Objective value     :  2.5266666667e+04\n",
      "HiGHS run time      :          0.00\n"
     ]
    }
   ],
   "source": [
    "# Solve\n",
    "optimize!(model)"
   ]
  },
  {
   "cell_type": "code",
   "execution_count": 27,
   "metadata": {},
   "outputs": [
    {
     "name": "stdout",
     "output_type": "stream",
     "text": [
      "Optimal production schedule:\n",
      "1: 10000.0 snitches\n",
      "2: 10666.666666666666 snitches\n",
      "3: 10666.666666666668 snitches\n",
      "4: 10666.666666666668 snitches\n",
      "5: 8000.0 snitches\n",
      "6: 8000.0 snitches\n",
      "\n",
      "Optimal inventory levels:\n",
      "1: 8000.0 snitches\n",
      "2: 10666.666666666666 snitches\n",
      "3: 1333.3333333333321 snitches\n",
      "4: -0.0 snitches\n",
      "5: 2000.0 snitches\n",
      "6: 8000.0 snitches\n",
      "\n",
      "Total cost: 25266.666666666668\n"
     ]
    }
   ],
   "source": [
    "# Display results\n",
    "println(\"Optimal production schedule:\")\n",
    "for m in 1:6\n",
    "    println(m, \": \", value(P[m]), \" snitches\")\n",
    "end\n",
    "\n",
    "println(\"\\nOptimal inventory levels:\")\n",
    "for m in 1:6\n",
    "    println(m, \": \", value(I[m]), \" snitches\")\n",
    "end\n",
    "\n",
    "println(\"\\nTotal cost: \", objective_value(model))"
   ]
  },
  {
   "cell_type": "markdown",
   "metadata": {},
   "source": [
    "###### 1-3"
   ]
  },
  {
   "cell_type": "markdown",
   "metadata": {},
   "source": [
    "###### 1-4"
   ]
  },
  {
   "cell_type": "markdown",
   "metadata": {},
   "source": [
    "##### 2. Least “Squares.”\n",
    "###### 2-1"
   ]
  },
  {
   "cell_type": "markdown",
   "metadata": {},
   "source": [
    "###### 2-2"
   ]
  },
  {
   "cell_type": "markdown",
   "metadata": {},
   "source": [
    "###### 2-3"
   ]
  },
  {
   "cell_type": "markdown",
   "metadata": {},
   "source": [
    "###### 2-4"
   ]
  },
  {
   "cell_type": "markdown",
   "metadata": {},
   "source": [
    "###### 2-5"
   ]
  },
  {
   "cell_type": "markdown",
   "metadata": {},
   "source": [
    "###### 2-6"
   ]
  },
  {
   "cell_type": "markdown",
   "metadata": {},
   "source": [
    "##### 3. Stadium Building\n",
    "###### 3-1"
   ]
  },
  {
   "cell_type": "markdown",
   "metadata": {},
   "source": [
    "###### 3-2"
   ]
  },
  {
   "cell_type": "markdown",
   "metadata": {},
   "source": [
    "###### 3-3"
   ]
  },
  {
   "cell_type": "markdown",
   "metadata": {},
   "source": [
    "###### 3-4"
   ]
  },
  {
   "cell_type": "markdown",
   "metadata": {},
   "source": [
    "###### 3-5"
   ]
  },
  {
   "cell_type": "markdown",
   "metadata": {},
   "source": [
    "###### 3-6"
   ]
  },
  {
   "cell_type": "markdown",
   "metadata": {},
   "source": [
    "##### 4. Broom Rental\n",
    "###### 4-1"
   ]
  },
  {
   "cell_type": "markdown",
   "metadata": {},
   "source": [
    "###### 4-2"
   ]
  },
  {
   "cell_type": "markdown",
   "metadata": {},
   "source": [
    "##### 5. Chess Sets and Duality\n",
    "###### 5-1"
   ]
  },
  {
   "cell_type": "markdown",
   "metadata": {},
   "source": [
    "###### 5-2"
   ]
  },
  {
   "cell_type": "markdown",
   "metadata": {},
   "source": [
    "###### 5-3"
   ]
  },
  {
   "cell_type": "markdown",
   "metadata": {},
   "source": [
    "###### 5-4"
   ]
  },
  {
   "cell_type": "markdown",
   "metadata": {},
   "source": [
    "###### 5-5"
   ]
  },
  {
   "cell_type": "markdown",
   "metadata": {},
   "source": [
    "###### 5-6"
   ]
  }
 ],
 "metadata": {
  "kernelspec": {
   "display_name": "Julia 1.10.0",
   "language": "julia",
   "name": "julia-1.10"
  },
  "language_info": {
   "file_extension": ".jl",
   "mimetype": "application/julia",
   "name": "julia",
   "version": "1.10.0"
  }
 },
 "nbformat": 4,
 "nbformat_minor": 2
}
