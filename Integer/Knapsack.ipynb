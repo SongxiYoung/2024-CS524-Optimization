{
 "cells": [
  {
   "cell_type": "markdown",
   "metadata": {},
   "source": [
    "# Knapsack problem\n",
    "\n",
    "My knapsack holds at most 15kg. I have the following items:\n",
    "\n",
    "|Item number | 1  | 2  | 3  | 4  | 5  |\n",
    "|------------|----|----|----|----|----|\n",
    "|weight (kg) | 12 | 2  | 4  | 1  | 1  |\n",
    "|value ($)   | 4  | 2  | 10 | 2  | 1  |\n",
    "\n",
    "How can maximize the value of the items in my knapsack?"
   ]
  },
  {
   "cell_type": "markdown",
   "metadata": {},
   "source": [
    "### First formulation"
   ]
  },
  {
   "cell_type": "code",
   "execution_count": null,
   "metadata": {},
   "outputs": [],
   "source": [
    "using JuMP, HiGHS\n",
    "\n",
    "m = Model(HiGHS.Optimizer)\n",
    "set_silent(m)\n",
    "@variable(m, z[1:5], Bin )\n",
    "@constraint(m, 12z[1] + 2z[2] + 4z[3] + z[4] + z[5] <= 15)\n",
    "@objective(m, Max, 4z[1] + 2z[2] + 10z[3] + 2z[4] + 1z[5])\n",
    "\n",
    "optimize!(m)\n",
    "\n",
    "println(termination_status(m))\n",
    "println(\"z = \", value.(z) )\n",
    "println(\"objective = \", objective_value(m) )"
   ]
  },
  {
   "cell_type": "markdown",
   "metadata": {},
   "source": [
    "### General formulation\n",
    "\n",
    "Suppose we have weights $w_1,\\dots,w_n$ and a weight limit $W$. Suppose the items have values of $v_1,\\dots,v_n$. How should we choose the items in order to maximize value while satisfying weight limit."
   ]
  },
  {
   "cell_type": "code",
   "execution_count": null,
   "metadata": {},
   "outputs": [],
   "source": [
    "# parameters for our problem\n",
    "w = [12, 2, 4, 1, 1]  # weights\n",
    "v = [4, 2, 10, 2, 1]  # values\n",
    "W = 15                # weight limit\n",
    "n = length(w);        # number of items"
   ]
  },
  {
   "cell_type": "code",
   "execution_count": null,
   "metadata": {},
   "outputs": [],
   "source": [
    "using JuMP, HiGHS\n",
    "m = Model(HiGHS.Optimizer)\n",
    "set_silent(m)\n",
    "\n",
    "@variable(m, z[1:n], Bin )\n",
    "@constraint(m, sum( w[i]*z[i] for i=1:n) <= W )\n",
    "@objective(m, Max, sum( v[i]*z[i] for i=1:n) )\n",
    "\n",
    "optimize!(m)\n",
    "\n",
    "println(termination_status(m))\n",
    "println(\"z = \", value.(z) )\n",
    "println(\"objective = \", objective_value(m) )"
   ]
  },
  {
   "cell_type": "code",
   "execution_count": null,
   "metadata": {},
   "outputs": [],
   "source": []
  }
 ],
 "metadata": {
  "@webio": {
   "lastCommId": null,
   "lastKernelId": null
  },
  "kernelspec": {
   "display_name": "Julia 1.10.0",
   "language": "julia",
   "name": "julia-1.10"
  },
  "language_info": {
   "file_extension": ".jl",
   "mimetype": "application/julia",
   "name": "julia",
   "version": "1.10.0"
  }
 },
 "nbformat": 4,
 "nbformat_minor": 1
}
