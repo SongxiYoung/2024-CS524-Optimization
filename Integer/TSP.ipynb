{
 "cells": [
  {
   "cell_type": "markdown",
   "metadata": {},
   "source": [
    "# Traveling salesman problem\n",
    "\n",
    "Find the closed tour that visits all ten cities and has the minimum total length. Distances between pairs of cities are given in the table below:\n",
    "\n",
    "|         |  ATL  |  ORD  |  DEN  |  IAH  |  LAX  |  MIA  |  JFK  |  SFO  |  SEA  |  DCA  |\n",
    "|--------:|------:|------:|------:|------:|------:|------:|------:|------:|------:|------:|\n",
    "|**ATL**  |    0  |  587  | 1212  |  701  | 1936  |  604  |  748  | 2139  | 2182  |  543  |\n",
    "|**ORD**  |  587  |    0  |  920  |  940  | 1745  | 1188  |  713  | 1858  | 1737  |  597  |\n",
    "|**DEN**  | 1212  |  920  |    0  |  879  |  831  | 1726  | 1631  |  949  | 1021  | 1494  |\n",
    "|**IAH**  |  701  |  940  |  879  |    0  | 1379  |  968  | 1420  | 1645  | 1891  | 1220  |\n",
    "|**LAX**  | 1936  | 1745  |  831  | 1379  |    0  | 2339  | 2451  |  347  |  959  | 2300  |\n",
    "|**MIA**  |  604  | 1188  | 1726  |  968  | 2339  |    0  | 1092  | 2594  | 2734  |  923  |\n",
    "|**JFK**  |  748  |  713  | 1631  | 1420  | 2451  | 1092  |    0  | 2571  | 2408  |  205  |\n",
    "|**SFO**  | 2139  | 1858  |  949  | 1645  |  347  | 2594  | 2571  |    0  |  678  | 2442  |\n",
    "|**SEA**  | 2182  | 1737  | 1021  | 1891  |  959  | 2734  | 2408  |  678  |    0  | 2329  |\n",
    "|**DCA**  |  543  |  597  | 1494  | 1220  | 2300  |  923  |  205  | 2442  | 2329  |    0  |"
   ]
  },
  {
   "cell_type": "code",
   "execution_count": 1,
   "metadata": {},
   "outputs": [],
   "source": [
    "# Define the problem data (cities and costs)\n",
    "# Run this, then run the final block of this notebook to load the helper functions before continuing\n",
    "using JuMP, NamedArrays, Gurobi\n",
    "\n",
    "cities = [:ATL, :ORD, :DEN, :IAH, :LAX, :MIA, :JFK, :SFO, :SEA, :DCA]\n",
    "\n",
    "distances = [     0   587  1212   701  1936   604   748  2139  2182   543\n",
    "                587     0   920   940  1745  1188   713  1858  1737   597\n",
    "               1212   920     0   879   831  1726  1631   949  1021  1494\n",
    "                701   940   879     0  1379   968  1420  1645  1891  1220\n",
    "               1936  1745   831  1379     0  2339  2451   347   959  2300\n",
    "                604  1188  1726   968  2339     0  1092  2594  2734   923\n",
    "                748   713  1631  1420  2451  1092     0  2571  2408   205\n",
    "               2139  1858   949  1645   347  2594  2571     0   678  2442\n",
    "               2182  1737  1021  1891   959  2734  2408   678     0  2329\n",
    "                543   597  1494  1220  2300   923   205  2442  2329     0  ]\n",
    "\n",
    "c = NamedArray(distances,(cities,cities))\n",
    "N = size(distances,1);"
   ]
  },
  {
   "cell_type": "code",
   "execution_count": 2,
   "metadata": {},
   "outputs": [
    {
     "data": {
      "text/plain": [
       "printTspSol (generic function with 1 method)"
      ]
     },
     "metadata": {},
     "output_type": "display_data"
    }
   ],
   "source": [
    "function printTspSol(x)\n",
    "    for i in 1:N \n",
    "        for j in 1:N \n",
    "            if x[i,j] > 0.5\n",
    "                println(cities[i], \" -> \", cities[j])\n",
    "            end \n",
    "        end \n",
    "    end \n",
    "end"
   ]
  },
  {
   "cell_type": "markdown",
   "metadata": {},
   "source": [
    "## Solve TSP using min-cost flow relaxation"
   ]
  },
  {
   "cell_type": "code",
   "execution_count": 3,
   "metadata": {},
   "outputs": [
    {
     "name": "stdout",
     "output_type": "stream",
     "text": [
      "Set parameter Username\n",
      "Academic license - for non-commercial use only - expires 2025-01-24\n",
      "ATL -> MIA\n",
      "ORD -> IAH\n",
      "DEN -> SEA\n",
      "IAH -> ORD\n",
      "LAX -> SFO\n",
      "MIA -> ATL\n",
      "JFK -> DCA\n",
      "SFO -> LAX\n",
      "SEA -> DEN\n",
      "DCA -> JFK\n"
     ]
    }
   ],
   "source": [
    "# solve the simplest version (min-cost flow version; it's an assignment problem)\n",
    "\n",
    "\n",
    "m = Model(Gurobi.Optimizer)\n",
    "# set_optimizer_attribute(m, \"OutputFlag\", 0)\n",
    "set_silent(m)\n",
    "\n",
    "@variable(m, 0 <= x[cities,cities] <= 1)                                 # LP relaxation\n",
    "@constraint(m, c1[j in cities], sum( x[i,j] for i in cities ) == 1)    # exacly one edge out of each node\n",
    "@constraint(m, c2[i in cities], sum( x[i,j] for j in cities ) == 1)    # exactly one edge into each node\n",
    "@constraint(m, c3[i in cities], x[i,i] == 0 )                       # no self-loops\n",
    "@objective(m, Min, sum( x[i,j]*c[i,j] for i in cities, j in cities ))  # minimize total cost\n",
    "optimize!(m)\n",
    "\n",
    "# pretty print the solution\n",
    "xx = value.(x)\n",
    "sol = NamedArray(zeros(Int,N,N),(cities,cities))\n",
    "for i in cities\n",
    "    for j in cities\n",
    "        sol[i,j] = Int(xx[i,j])\n",
    "    end\n",
    "end\n",
    "\n",
    "printTspSol(sol)\n"
   ]
  },
  {
   "cell_type": "markdown",
   "metadata": {},
   "source": [
    "## Solve TSP using adaptive subtour elimination"
   ]
  },
  {
   "cell_type": "markdown",
   "metadata": {},
   "source": [
    "### Helper functions"
   ]
  },
  {
   "cell_type": "code",
   "execution_count": 4,
   "metadata": {},
   "outputs": [
    {
     "data": {
      "text/plain": [
       "getAllSubtours (generic function with 1 method)"
      ]
     },
     "metadata": {},
     "output_type": "display_data"
    }
   ],
   "source": [
    "# HELPER FUNCTION: returns the cycle containing the city START.\n",
    "function getSubtour(x,start)\n",
    "    subtour = [start]\n",
    "    while true\n",
    "        j = subtour[end]\n",
    "        for k in cities\n",
    "            if x[k,j] == 1\n",
    "                push!(subtour,k)\n",
    "                break\n",
    "            end\n",
    "        end\n",
    "        if subtour[end] == start\n",
    "            break\n",
    "        end\n",
    "    end\n",
    "    return subtour\n",
    "end\n",
    "\n",
    "# HELPER FUNCTION: returns a list of all cycles\n",
    "function getAllSubtours(x)\n",
    "    nodesRemaining = cities\n",
    "    subtours = []\n",
    "    while length(nodesRemaining) > 0\n",
    "        subtour = getSubtour(x,nodesRemaining[1])\n",
    "        push!(subtours, subtour)\n",
    "        nodesRemaining = setdiff(nodesRemaining,subtour)\n",
    "    end\n",
    "    return subtours\n",
    "end\n"
   ]
  },
  {
   "cell_type": "markdown",
   "metadata": {},
   "source": [
    "### Optimization problem"
   ]
  },
  {
   "cell_type": "code",
   "execution_count": 5,
   "metadata": {},
   "outputs": [
    {
     "data": {
      "text/plain": [
       "5-element Vector{Any}:\n",
       " [:ATL, :MIA, :ATL]\n",
       " [:ORD, :IAH, :ORD]\n",
       " [:DEN, :SEA, :DEN]\n",
       " [:LAX, :SFO, :LAX]\n",
       " [:JFK, :DCA, :JFK]"
      ]
     },
     "metadata": {},
     "output_type": "display_data"
    },
    {
     "name": "stdout",
     "output_type": "stream",
     "text": [
      "Set parameter Username\n",
      "Academic license - for non-commercial use only - expires 2025-01-24\n",
      "Tour length: 6234.0\n",
      "Tour length: 6665.0\n",
      "Tour length: 6774.0\n",
      "Tour length: 6991.0\n",
      "Tour length: 7260.0\n",
      "Tour length: 7378.0\n",
      "SOLVED!\n"
     ]
    },
    {
     "data": {
      "text/plain": [
       "3-element Vector{Any}:\n",
       " [:ATL, :IAH, :MIA, :ATL]\n",
       " [:ORD, :DCA, :JFK, :ORD]\n",
       " [:DEN, :LAX, :SFO, :SEA, :DEN]"
      ]
     },
     "metadata": {},
     "output_type": "display_data"
    },
    {
     "data": {
      "text/plain": [
       "3-element Vector{Any}:\n",
       " [:ATL, :ORD, :JFK, :DCA, :MIA, :ATL]\n",
       " [:DEN, :IAH, :DEN]\n",
       " [:LAX, :SEA, :SFO, :LAX]"
      ]
     },
     "metadata": {},
     "output_type": "display_data"
    },
    {
     "data": {
      "text/plain": [
       "3-element Vector{Any}:\n",
       " [:ATL, :DCA, :JFK, :ORD, :IAH, :MIA, :ATL]\n",
       " [:DEN, :LAX, :DEN]\n",
       " [:SFO, :SEA, :SFO]"
      ]
     },
     "metadata": {},
     "output_type": "display_data"
    },
    {
     "data": {
      "text/plain": [
       "3-element Vector{Any}:\n",
       " [:ATL, :DCA, :JFK, :ORD, :ATL]\n",
       " [:DEN, :SFO, :LAX, :SEA, :DEN]\n",
       " [:IAH, :MIA, :IAH]"
      ]
     },
     "metadata": {},
     "output_type": "display_data"
    },
    {
     "data": {
      "text/plain": [
       "1-element Vector{Any}:\n",
       " [:ATL, :MIA, :IAH, :LAX, :SFO, :SEA, :DEN, :ORD, :JFK, :DCA, :ATL]"
      ]
     },
     "metadata": {},
     "output_type": "display_data"
    }
   ],
   "source": [
    "m = Model(Gurobi.Optimizer)\n",
    "# set_optimizer_attribute(m, \"OutputFlag\", 0)\n",
    "set_silent(m)\n",
    "\n",
    "@variable(m, x[cities,cities], Bin)                                       # must formulate as IP this time\n",
    "@constraint(m, c1[j in cities], sum( x[i,j] for i in cities ) == 1)     # one out-edge\n",
    "@constraint(m, c2[i in cities], sum( x[i,j] for j in cities ) == 1)     # one in-edge\n",
    "@constraint(m, c3[i in cities], x[i,i] == 0 )                        # no self-loops\n",
    "@objective(m, Min, sum( x[i,j]*c[i,j] for i in cities, j in cities ))   # minimize total cost\n",
    "\n",
    "sols = []\n",
    "\n",
    "for iters = 1:30\n",
    "    optimize!(m)\n",
    "    println(\"Tour length: \", objective_value(m))\n",
    "    xx = value.(x)\n",
    "    push!(sols,xx)\n",
    "    subtours = getAllSubtours(xx)  # get all the subtours\n",
    "    display(subtours)\n",
    "    len = length(subtours)\n",
    "    if len == 1                    # solution is just a single tour!\n",
    "        println(\"SOLVED!\")\n",
    "        break\n",
    "    else\n",
    "        for subtour in subtours\n",
    "            L = length(subtour)\n",
    "            @constraint(m, sum( x[subtour[k+1],subtour[k]] for k = 1:L-1 ) <= L-2)\n",
    "            @constraint(m, sum( x[subtour[k],subtour[k+1]] for k = 1:L-1 ) <= L-2)\n",
    "        end\n",
    "    end\n",
    "end\n",
    "\n"
   ]
  },
  {
   "cell_type": "code",
   "execution_count": 6,
   "metadata": {},
   "outputs": [],
   "source": []
  },
  {
   "cell_type": "markdown",
   "metadata": {},
   "source": [
    "## Miller-Tucker-Zemlin formulation"
   ]
  },
  {
   "cell_type": "code",
   "execution_count": 7,
   "metadata": {},
   "outputs": [
    {
     "data": {
      "text/plain": [
       "1-element Vector{Any}:\n",
       " [:ATL, :MIA, :IAH, :LAX, :SFO, :SEA, :DEN, :ORD, :JFK, :DCA, :ATL]"
      ]
     },
     "metadata": {},
     "output_type": "display_data"
    },
    {
     "name": "stdout",
     "output_type": "stream",
     "text": [
      "Set parameter Username\n",
      "Academic license - for non-commercial use only - expires 2025-01-24\n",
      "Tour length: 7378.0\n"
     ]
    }
   ],
   "source": [
    "m = Model(Gurobi.Optimizer)\n",
    "# set_optimizer_attribute(m, \"OutputFlag\", 0)\n",
    "set_silent(m)\n",
    "\n",
    "@variable(m, x[cities,cities], Bin)                                      # must formulate as IP this time\n",
    "@constraint(m, c1[j in cities], sum( x[i,j] for i in cities ) == 1)      # one out-edge\n",
    "@constraint(m, c2[i in cities], sum( x[i,j] for j in cities ) == 1)      # one in-edge\n",
    "@constraint(m, c3[i in cities], x[i,i] == 0 )                            # no self-loops\n",
    "@objective(m, Min, sum( x[i,j]*c[i,j] for i in cities, j in cities ))   # minimize total cost\n",
    "                                    \n",
    "# MTZ variables and constraints\n",
    "@variable(m, u[cities])\n",
    "@constraint(m, c4[i in cities, j in cities[2:end]], u[i] - u[j] + N*x[i,j] <= N-1 )\n",
    "\n",
    "optimize!(m)\n",
    "xx = value.(x)\n",
    "subtours = getAllSubtours(xx)  # get cycle containing Atlanta\n",
    "display(subtours)\n",
    "println(\"Tour length: \", objective_value(m))"
   ]
  },
  {
   "cell_type": "code",
   "execution_count": 8,
   "metadata": {},
   "outputs": [],
   "source": []
  }
 ],
 "metadata": {
  "@webio": {
   "lastCommId": null,
   "lastKernelId": null
  },
  "kernelspec": {
   "display_name": "Julia 1.10.0",
   "language": "julia",
   "name": "julia-1.10"
  },
  "language_info": {
   "file_extension": ".jl",
   "mimetype": "application/julia",
   "name": "julia",
   "version": "1.10.0"
  }
 },
 "nbformat": 4,
 "nbformat_minor": 1
}
