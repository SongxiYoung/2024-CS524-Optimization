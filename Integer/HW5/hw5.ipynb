{
 "cells": [
  {
   "cell_type": "markdown",
   "metadata": {},
   "source": [
    "### ISyE524: Intro to Optimization\n",
    "#### Problem Set #5\n",
    "##### 1. Ahhhhhhhh, Daniel-son. You SuDoku Master\n",
    "###### 1-1\n",
    "\n",
    "\\begin{align*}\n",
    "\\text{decision variables: } \\\\\n",
    "\\quad & X \\in {0,1} ^{9 \\times 9 \\times 9} \\\\\n",
    "\n",
    "\\quad & X_{ijk} = \n",
    "  \\begin{cases} \n",
    "   1 & \\text{if } (i,j) \\text{ entry is a } k \\\\\n",
    "   0 & \\text{otherwise} \n",
    "  \\end{cases} \\\\\n",
    "\n",
    "\\text{constraints: } \\\\\n",
    "\n",
    "\\quad & \\sum_{k=1}^{9} x_{ijk} = 1 \\quad \\forall i, j \\\\\n",
    "& \\sum_{i=1}^{9} x_{ijk} = 1 \\quad \\forall j, k \\\\\n",
    "& \\sum_{j=1}^{9} x_{ijk} = 1 \\quad \\forall i, k \\\\\n",
    "& \\sum_{(i, j) \\in C } x_{ijk} = 1 \\quad \\forall C, k \\\\\n",
    "\\end{align*}"
   ]
  },
  {
   "cell_type": "markdown",
   "metadata": {},
   "source": [
    "###### 1-2"
   ]
  },
  {
   "cell_type": "code",
   "execution_count": 1,
   "metadata": {},
   "outputs": [],
   "source": [
    "# Given data. Unknown entries are specified as \"0\"\n",
    "given = [\n",
    "    0 6 0  1 0 4  0 5 0\n",
    "    0 0 8  3 0 5  6 0 0\n",
    "    2 0 0  0 0 0  0 0 1\n",
    " \n",
    "    8 0 0  4 0 7  0 0 6\n",
    "    0 0 6  0 0 0  3 0 0\n",
    "    7 0 0  9 0 1  0 0 4\n",
    " \n",
    "    5 0 0  0 0 0  0 0 2\n",
    "    0 0 7  2 0 6  9 0 0\n",
    "    0 4 0  5 0 8  0 7 0\n",
    "  ];"
   ]
  },
  {
   "cell_type": "code",
   "execution_count": 3,
   "metadata": {},
   "outputs": [],
   "source": [
    "# helper function to print a sudoku grid\n",
    "function printSudoku(arr)\n",
    "    u = 0\n",
    "    println(\"+-------+-------+-------+\")\n",
    "    for p in 1:3:9\n",
    "      for q in 0:2\n",
    "        print(\"| \")\n",
    "        for r in 1:3:9\n",
    "          for s in 0:2\n",
    "            u = round(Int, arr[p+q,r+s])\n",
    "            u == 0 ? print(\" \") : print(u)\n",
    "            print(\" \")\n",
    "          end\n",
    "          print(\"| \")\n",
    "                  end\n",
    "        println()\n",
    "      end\n",
    "      println(\"+-------+-------+-------+\")\n",
    "    end\n",
    "  end\n",
    "  ;"
   ]
  },
  {
   "cell_type": "code",
   "execution_count": 8,
   "metadata": {},
   "outputs": [
    {
     "name": "stdout",
     "output_type": "stream",
     "text": [
      "  0.009187 seconds (6.31 k allocations: 1.203 MiB)\n",
      "The solution is: \n",
      "+-------+-------+-------+\n",
      "| 9 6 3 | 1 7 4 | 2 5 8 | \n",
      "| 1 7 8 | 3 2 5 | 6 4 9 | \n",
      "| 2 5 4 | 6 8 9 | 7 3 1 | \n",
      "+-------+-------+-------+\n",
      "| 8 2 1 | 4 3 7 | 5 9 6 | \n",
      "| 4 9 6 | 8 5 2 | 3 1 7 | \n",
      "| 7 3 5 | 9 6 1 | 8 2 4 | \n",
      "+-------+-------+-------+\n",
      "| 5 8 9 | 7 1 3 | 4 6 2 | \n",
      "| 3 1 7 | 2 4 6 | 9 8 5 | \n",
      "| 6 4 2 | 5 9 8 | 1 7 3 | \n",
      "+-------+-------+-------+\n"
     ]
    }
   ],
   "source": [
    "using JuMP, HiGHS\n",
    "\n",
    "m = Model(HiGHS.Optimizer)\n",
    "set_silent(m)\n",
    "\n",
    "@variable(m, x[1:9,1:9,1:9], Bin)\n",
    "\n",
    "# exactly one number per cell\n",
    "for i in 1:9\n",
    "  for j in 1:9\n",
    "    @constraint(m, sum(x[i,j,k] for k in 1:9) == 1)\n",
    "  end\n",
    "end\n",
    "\n",
    "# exactly one of each number per row\n",
    "for i in 1:9\n",
    "  for k in 1:9\n",
    "    @constraint(m, sum(x[i,j,k] for j in 1:9) == 1)\n",
    "  end\n",
    "end\n",
    "\n",
    "# exactly one of each number per column\n",
    "for j in 1:9\n",
    "  for k in 1:9\n",
    "    @constraint(m, sum(x[i,j,k] for i in 1:9) == 1)\n",
    "  end\n",
    "end\n",
    "\n",
    "# exactly one of each number per 3x3 block\n",
    "for k in 1:9\n",
    "  for p in 0:3:6\n",
    "    for q in 0:3:6\n",
    "      @constraint(m, sum(x[p+i,q+j,k] for i in 1:3, j in 1:3) == 1)\n",
    "    end\n",
    "  end\n",
    "end\n",
    "\n",
    "# initial conditions\n",
    "for i in 1:9\n",
    "  for j in 1:9\n",
    "    if given[i,j] != 0\n",
    "      @constraint(m, x[i,j,given[i,j]] == 1)\n",
    "    end\n",
    "  end\n",
    "end\n",
    "\n",
    "@time(optimize!(m))\n",
    "\n",
    "# if termination_status(m) != :OPTIMAL\n",
    "#     println(termination_status(m))\n",
    "# else\n",
    "    #generate solution grid and display the solution\n",
    "    solution = zeros(9,9)\n",
    "    for i in 1:9\n",
    "      for j in 1:9\n",
    "        for k in 1:9\n",
    "          if value(x[i,j,k]) == 1\n",
    "            solution[i,j] = k\n",
    "            continue\n",
    "          end\n",
    "        end\n",
    "      end\n",
    "    end\n",
    "\n",
    "    println(\"The solution is: \")\n",
    "    printSudoku(solution)\n",
    "# end"
   ]
  },
  {
   "cell_type": "markdown",
   "metadata": {},
   "source": [
    "###### 1-3"
   ]
  },
  {
   "cell_type": "markdown",
   "metadata": {},
   "source": [
    "###### 1-4"
   ]
  },
  {
   "cell_type": "markdown",
   "metadata": {},
   "source": [
    "###### 1-5"
   ]
  },
  {
   "cell_type": "markdown",
   "metadata": {},
   "source": [
    "##### 2. Integer Programming is Smarter than a Fourth Grader?\n",
    "###### 2-1"
   ]
  },
  {
   "cell_type": "markdown",
   "metadata": {},
   "source": [
    "###### 2-2"
   ]
  },
  {
   "cell_type": "markdown",
   "metadata": {},
   "source": [
    "##### 3. An Auror is Near\n",
    "###### 3-1"
   ]
  },
  {
   "cell_type": "markdown",
   "metadata": {},
   "source": [
    "###### 3-2"
   ]
  },
  {
   "cell_type": "markdown",
   "metadata": {},
   "source": [
    "##### 4. Routing Apple Deliveries\n",
    "###### 4-1"
   ]
  },
  {
   "cell_type": "markdown",
   "metadata": {},
   "source": [
    "###### 4-2"
   ]
  },
  {
   "cell_type": "markdown",
   "metadata": {},
   "source": [
    "##### 5. Paint Production\n",
    "###### 5-1"
   ]
  },
  {
   "cell_type": "markdown",
   "metadata": {},
   "source": [
    "###### 5-2"
   ]
  }
 ],
 "metadata": {
  "kernelspec": {
   "display_name": "Julia 1.10.0",
   "language": "julia",
   "name": "julia-1.10"
  },
  "language_info": {
   "file_extension": ".jl",
   "mimetype": "application/julia",
   "name": "julia",
   "version": "1.10.0"
  }
 },
 "nbformat": 4,
 "nbformat_minor": 2
}
